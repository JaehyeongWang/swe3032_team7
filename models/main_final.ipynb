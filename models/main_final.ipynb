{
 "cells": [
  {
   "cell_type": "code",
   "execution_count": null,
   "metadata": {},
   "outputs": [],
   "source": [
    "from google.colab import drive\n",
    "drive.mount('/content/drive')"
   ]
  },
  {
   "cell_type": "code",
   "execution_count": 1,
   "metadata": {},
   "outputs": [],
   "source": [
    "#call library\n",
    "\n",
    "import os\n",
    "import pandas as pd\n",
    "from sklearn.preprocessing import MinMaxScaler\n",
    "import numpy as np\n",
    "import matplotlib.pyplot as plt\n",
    "from tensorflow.keras.preprocessing.sequence import pad_sequences\n",
    "from tensorflow.keras.utils import to_categorical\n",
    "from tensorflow.keras.models import Sequential, load_model\n",
    "from tensorflow.keras.layers import Dense, LSTM, Dropout\n",
    "from tensorflow.keras.callbacks import EarlyStopping, ModelCheckpoint\n",
    "import matplotlib.pyplot as plt\n",
    "\n",
    "from preprocesslib import preprocessEach, makeY"
   ]
  },
  {
   "cell_type": "code",
   "execution_count": 12,
   "metadata": {},
   "outputs": [],
   "source": [
    "xGrowths = preprocessEach('growth')\n",
    "xValues = preprocessEach('value')\n",
    "xOverlaps = preprocessEach('overlap')"
   ]
  },
  {
   "cell_type": "code",
   "execution_count": 16,
   "metadata": {},
   "outputs": [],
   "source": [
    "#bootstrap -이거 재현언니 더 좋은 코드 있다 하지 않았나요....ㅠ\n",
    "def bootstrap(data, n_samples):\n",
    "    # generate bootstrap sample\n",
    "    samples = []\n",
    "    # sampling n_samples times\n",
    "    for i in range(n_samples):\n",
    "        # randomly sample from data with replacement\n",
    "        sample = data[np.random.choice(len(data), size=1, replace=True)]\n",
    "        # append sample to ndarray\n",
    "        samples = np.append(samples, sample)\n",
    "    return samples\n",
    "\n",
    "n_samples = len(xValues) - len(xGrowths)\n",
    "xGrowths_bootstrapped = bootstrap(xGrowths, n_samples)\n",
    "xGrowths = np.concatenate((xGrowths, xGrowths_bootstrapped), axis=0)\n",
    "\n",
    "n_samples = len(xValues) - len(xOverlaps)\n",
    "xOverlaps_bootstrapped = bootstrap(xOverlaps, n_samples)\n",
    "xOverlaps = np.concatenate((xOverlaps, xOverlaps_bootstrapped), axis=0)"
   ]
  },
  {
   "cell_type": "code",
   "execution_count": 21,
   "metadata": {},
   "outputs": [],
   "source": [
    "#bootstrap\n",
    "n_samples = len(xValues)\n",
    "xGrowths = xGrowths[np.random.choice(len(xGrowths), size=n_samples, replace=True)]\n",
    "xOverlaps = xOverlaps[np.random.choice(len(xOverlaps), size=n_samples, replace=True)]"
   ]
  },
  {
   "cell_type": "code",
   "execution_count": 36,
   "metadata": {},
   "outputs": [],
   "source": [
    "#make y values\n",
    "yGrowths = makeY('growth', n_samples)\n",
    "yValues = makeY('value', n_samples)\n",
    "yOverlaps = makeY('overlap', n_samples)"
   ]
  },
  {
   "cell_type": "code",
   "execution_count": 24,
   "metadata": {},
   "outputs": [],
   "source": [
    "x = np.concatenate((xGrowths, xValues, xOverlaps), axis=0)\n",
    "y = np.concatenate((yGrowths, yValues, yOverlaps), axis=0)"
   ]
  },
  {
   "cell_type": "code",
   "execution_count": 33,
   "metadata": {},
   "outputs": [],
   "source": [
    "#minmax scaling\n",
    "scaler = MinMaxScaler()\n",
    "for i in range(len(x)):\n",
    "    x[i] = scaler.fit_transform(x[i])"
   ]
  },
  {
   "cell_type": "code",
   "execution_count": 38,
   "metadata": {},
   "outputs": [
    {
     "data": {
      "text/plain": [
       "array([[ 3.58905914, 12.63720875,  0.64185268,  1.91397692,  0.        ,\n",
       "         3.00991691],\n",
       "       [ 3.58905914, 12.47991311,  0.69314718,  1.89911803,  0.        ,\n",
       "         2.79902198],\n",
       "       [ 3.56246553, 12.60686351,  0.74193662,  2.01223273,  0.        ,\n",
       "         2.53142667],\n",
       "       ...,\n",
       "       [ 3.77597415, 13.12216536,  0.76080554,  1.77495261,  3.77986208,\n",
       "         0.        ],\n",
       "       [ 3.78168649, 12.7346429 ,  0.69813389,  1.93585986,  3.77881154,\n",
       "         0.        ],\n",
       "       [ 3.76166513, 12.64690811,  0.83724647,  1.97685459,  3.77368004,\n",
       "         0.        ]])"
      ]
     },
     "execution_count": 38,
     "metadata": {},
     "output_type": "execute_result"
    }
   ],
   "source": [
    "xGrowths[0]"
   ]
  },
  {
   "cell_type": "code",
   "execution_count": 34,
   "metadata": {},
   "outputs": [
    {
     "data": {
      "text/plain": [
       "array([[[0.20132041, 0.32905387, 0.12831375, 0.72446692, 0.        ,\n",
       "         0.67447325],\n",
       "        [0.20132041, 0.29829786, 0.15466084, 0.71884262, 0.        ,\n",
       "         0.62721514],\n",
       "        [0.17558879, 0.32312047, 0.17972122, 0.76165811, 0.        ,\n",
       "         0.5672514 ],\n",
       "        ...,\n",
       "        [0.38217688, 0.42387742, 0.18941312, 0.67184428, 0.86225378,\n",
       "         0.        ],\n",
       "        [0.38770407, 0.34810517, 0.15722223, 0.73274991, 0.86201413,\n",
       "         0.        ],\n",
       "        [0.36833167, 0.33095039, 0.22867651, 0.74826699, 0.86084354,\n",
       "         0.        ]],\n",
       "\n",
       "       [[0.00644864, 0.37567181, 0.13821767, 0.70852338, 0.        ,\n",
       "         0.63855115],\n",
       "        [0.00188826, 0.27522688, 0.12102619, 0.7240908 , 0.        ,\n",
       "         0.64904854],\n",
       "        [0.00229207, 0.37496392, 0.13172283, 0.71441818, 0.        ,\n",
       "         0.65907219],\n",
       "        ...,\n",
       "        [0.90982473, 0.30722621, 0.47563833, 0.74951214, 0.9764121 ,\n",
       "         0.76592186],\n",
       "        [0.92439052, 0.30335646, 0.42545492, 0.68159994, 0.97723635,\n",
       "         0.77091428],\n",
       "        [0.92259997, 0.28496878, 0.40368399, 0.70821745, 0.97799392,\n",
       "         0.77579697]],\n",
       "\n",
       "       [[0.54842791, 0.34053036, 0.42072152, 0.50890165, 0.        ,\n",
       "         0.25826925],\n",
       "        [0.58713469, 0.37967834, 0.32791811, 0.39772203, 0.        ,\n",
       "         0.26182647],\n",
       "        [0.60407019, 0.36309226, 0.37098514, 0.44429476, 0.        ,\n",
       "         0.26535763],\n",
       "        ...,\n",
       "        [0.50963543, 0.55161978, 0.15678272, 0.57727964, 0.76905214,\n",
       "         0.60296092],\n",
       "        [0.50010142, 0.65362022, 0.21616539, 0.63803576, 0.76757409,\n",
       "         0.61161468],\n",
       "        [0.48587009, 0.62678446, 0.11897086, 0.63803576, 0.76806752,\n",
       "         0.6201158 ]],\n",
       "\n",
       "       ...,\n",
       "\n",
       "       [[0.77293067, 0.49830784, 0.35403216, 0.70642575, 0.        ,\n",
       "         0.4003018 ],\n",
       "        [0.79372345, 0.57244379, 0.50779236, 0.55407286, 0.        ,\n",
       "         0.40352024],\n",
       "        [0.78295592, 0.38005325, 0.26832019, 0.71146164, 0.        ,\n",
       "         0.40673177],\n",
       "        ...,\n",
       "        [0.39104257, 0.39727024, 0.14831415, 0.66675507, 0.75921685,\n",
       "         0.59346875],\n",
       "        [0.40491093, 0.37871357, 0.21299033, 0.62465469, 0.75899105,\n",
       "         0.607559  ],\n",
       "        [0.40173452, 0.33482683, 0.13628436, 0.646071  , 0.76005126,\n",
       "         0.62151769]],\n",
       "\n",
       "       [[0.24831205, 0.40701037, 0.15784686, 0.76107359, 0.        ,\n",
       "         0.60261712],\n",
       "        [0.2631798 , 0.47078479, 0.22345155, 0.7541728 , 0.        ,\n",
       "         0.58522348],\n",
       "        [0.25824319, 0.57586166, 0.21590682, 0.78646493, 0.        ,\n",
       "         0.56748708],\n",
       "        ...,\n",
       "        [0.58940676, 0.29924073, 0.10008315, 0.81035424, 0.94140709,\n",
       "         0.0765641 ],\n",
       "        [0.60249934, 0.15892406, 0.19337688, 0.77215661, 0.9412808 ,\n",
       "         0.0804189 ],\n",
       "        [0.60219162, 0.10504972, 0.11841353, 0.78333691, 0.94167518,\n",
       "         0.08425725]],\n",
       "\n",
       "       [[0.46504087, 0.46327779, 0.04013612, 0.74283653, 0.        ,\n",
       "         0.7068647 ],\n",
       "        [0.47526527, 0.56101402, 0.21505806, 0.72254041, 0.        ,\n",
       "         0.68133602],\n",
       "        [0.47131763, 0.55872934, 0.13296978, 0.76363172, 0.        ,\n",
       "         0.65446705],\n",
       "        ...,\n",
       "        [0.86130695, 0.54401325, 0.36157364, 0.71028411, 0.96651719,\n",
       "         0.80019249],\n",
       "        [0.86604444, 0.31512783, 0.24065871, 0.76468672, 0.96354224,\n",
       "         0.78140558],\n",
       "        [0.85954165, 0.42274111, 0.12202535, 0.75863438, 0.96241408,\n",
       "         0.76190282]]])"
      ]
     },
     "execution_count": 34,
     "metadata": {},
     "output_type": "execute_result"
    }
   ],
   "source": [
    "x"
   ]
  },
  {
   "cell_type": "code",
   "execution_count": 26,
   "metadata": {},
   "outputs": [],
   "source": [
    "def splitData(x, y, train_ratio=0.8):\n",
    "    # shuffle data\n",
    "    permutation = np.random.permutation(len(x))\n",
    "    x = x[permutation]\n",
    "    y = y[permutation]\n",
    "\n",
    "    # split data\n",
    "    n_train_samples = int(train_ratio * len(x))\n",
    "    x_train, x_test = x[:n_train_samples], x[n_train_samples:]\n",
    "    y_train, y_test = y[:n_train_samples], y[n_train_samples:]\n",
    "\n",
    "    return x_train, x_test, y_train, y_test"
   ]
  },
  {
   "cell_type": "code",
   "execution_count": 27,
   "metadata": {},
   "outputs": [],
   "source": [
    "x_train, x_test, y_train, y_test = splitData(x, y)"
   ]
  },
  {
   "cell_type": "code",
   "execution_count": 29,
   "metadata": {},
   "outputs": [],
   "source": [
    "#modify NaN to 0\n",
    "x_train = np.nan_to_num(x_train, nan=0)\n",
    "x_test = np.nan_to_num(x_test, nan=0)"
   ]
  },
  {
   "cell_type": "code",
   "execution_count": null,
   "metadata": {},
   "outputs": [],
   "source": []
  }
 ],
 "metadata": {
  "kernelspec": {
   "display_name": "base",
   "language": "python",
   "name": "python3"
  },
  "language_info": {
   "codemirror_mode": {
    "name": "ipython",
    "version": 3
   },
   "file_extension": ".py",
   "mimetype": "text/x-python",
   "name": "python",
   "nbconvert_exporter": "python",
   "pygments_lexer": "ipython3",
   "version": "3.8.8"
  },
  "orig_nbformat": 4
 },
 "nbformat": 4,
 "nbformat_minor": 2
}
