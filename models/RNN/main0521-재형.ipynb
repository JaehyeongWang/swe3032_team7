{
  "cells": [
    {
      "cell_type": "code",
      "execution_count": 2,
      "metadata": {
        "colab": {
          "base_uri": "https://localhost:8080/"
        },
        "id": "rvP8nLIjhgne",
        "outputId": "3d7eca39-8273-4517-bfb2-57e4d513fd9f"
      },
      "outputs": [
        {
          "name": "stdout",
          "output_type": "stream",
          "text": [
            "Mounted at /content/drive\n"
          ]
        }
      ],
      "source": [
        "# from google.colab import drive\n",
        "# drive.mount('/content/drive')"
      ]
    },
    {
      "cell_type": "code",
      "execution_count": 1,
      "metadata": {
        "id": "lVzzi6Krbu7V"
      },
      "outputs": [],
      "source": [
        "#call library\n",
        "\n",
        "import os\n",
        "import pandas as pd\n",
        "from sklearn.preprocessing import MinMaxScaler\n",
        "import numpy as np\n",
        "import matplotlib.pyplot as plt\n",
        "from tensorflow.keras.preprocessing.sequence import pad_sequences\n",
        "from tensorflow.keras.utils import to_categorical\n",
        "from tensorflow.keras.models import Sequential, load_model\n",
        "from tensorflow.keras.layers import Dense, LSTM, Dropout\n",
        "from tensorflow.keras.callbacks import EarlyStopping, ModelCheckpoint\n",
        "import matplotlib.pyplot as plt"
      ]
    },
    {
      "cell_type": "code",
      "execution_count": 5,
      "metadata": {
        "id": "yqFjTX3abu7b"
      },
      "outputs": [],
      "source": [
        "scaler = MinMaxScaler()\n",
        "\n",
        "def preprocessing(folder_name):\n",
        "   # set file path\n",
        "    folder_path = f'../../data/{folder_name}/'\n",
        "\n",
        "    # load file name in folder\n",
        "    file_names = os.listdir(folder_path)\n",
        "    data_array = []\n",
        "    # data_list = []\n",
        "\n",
        "    for file in file_names:\n",
        "        # set file path\n",
        "        file_path = os.path.join(folder_path, file)\n",
        "        \n",
        "        # load csv file as dataframe\n",
        "        df = pd.read_csv(file_path)\n",
        "\n",
        "        #preprocessing column\n",
        "        df['open-close'] = df['Open'] - df['Close'] #추가\n",
        "        df['open-close'] = df['open-close'] + abs(min(df['open-close'])) #추가\n",
        "        df['MA5'] = df['Close'].rolling(5).mean() #추가\n",
        "        df = df.drop(['Unnamed: 0','Open'], axis=1)\n",
        "        # df = df.rename(columns={'Adj Close':'Close'})\n",
        "        df['Diff'] = df['High'] - df['Low']\n",
        "        df = df.drop(['High','Low'], axis=1)\n",
        "\n",
        "        #change 0 value to 0.000001\n",
        "        #df = df.replace(0, 0.000001) -> np.log1p 메소드 사용\n",
        "\n",
        "        #log transform\n",
        "        df = np.log1p(df)\n",
        "\n",
        "        #using minmaxscaler of each column in df\n",
        "        df[['Close','Volume','Diff','open-close','MA5','Search']] = scaler.fit_transform(df[['Close','Volume','Diff','open-close','MA5','Search']])\n",
        "        #df[['Close','Volume','Diff']] = scaler.fit_transform(df[['Close','Volume','Diff']])\n",
        "\n",
        "        #insert list to array\n",
        "        data_array.append(df)\n",
        "\n",
        "    #list to numpy array and return\n",
        "    return np.array(data_array)\n",
        "        \n",
        "        # save dataframe in variable without '.csv' extension\n",
        "        # var_name = file.replace('.csv', '')\n",
        "        # globals()[var_name] = df\n",
        "        # data_list.append(var_name)"
      ]
    },
    {
      "cell_type": "code",
      "execution_count": 70,
      "metadata": {
        "colab": {
          "base_uri": "https://localhost:8080/"
        },
        "id": "alni90SBbu7c",
        "outputId": "dc4ec42b-c9e6-4ba2-d6d7-71eb6bd0da71"
      },
      "outputs": [],
      "source": [
        "#call preprocessing function\n",
        "xGrowths = preprocessing('growth_clean')\n",
        "xValues = preprocessing('value_clean')\n",
        "xOverlaps = preprocessing('overlap_clean')"
      ]
    },
    {
      "cell_type": "code",
      "execution_count": 71,
      "metadata": {
        "id": "sf7rE7ywbu7d"
      },
      "outputs": [],
      "source": [
        "def bootstrap(large, small):\n",
        "    diff = len(large) - len(small)\n",
        "    bootstrapped = small[np.random.choice(len(small), size=diff, replace=True)]\n",
        "    return np.concatenate((small, bootstrapped), axis=0)"
      ]
    },
    {
      "cell_type": "code",
      "execution_count": 72,
      "metadata": {
        "id": "BKKOWjFdbu7d"
      },
      "outputs": [],
      "source": [
        "xGrowths = bootstrap(xValues, xGrowths)\n",
        "xOverlaps = bootstrap(xValues, xOverlaps)"
      ]
    },
    {
      "cell_type": "code",
      "execution_count": 73,
      "metadata": {
        "id": "Zrbt_4vRbu7e"
      },
      "outputs": [],
      "source": [
        "#generate y values\n",
        "yGrowths = np.ones(len(xGrowths))\n",
        "yValues = np.ones(len(xValues))\n",
        "yOverlaps = np.ones(len(xOverlaps))"
      ]
    },
    {
      "cell_type": "code",
      "execution_count": 74,
      "metadata": {},
      "outputs": [],
      "source": [
        "#concatenate growths and values\n",
        "x = np.concatenate((xGrowths, xValues, xOverlaps), axis=0)\n",
        "y = np.concatenate(\n",
        "    (\n",
        "        np.concatenate((np.ones(len(xGrowths)),np.zeros(len(xValues)),np.ones(len(xOverlaps))))[:, np.newaxis],\n",
        "        np.concatenate((np.zeros(len(xGrowths)),np.ones(len(xValues)),np.ones(len(xOverlaps))))[:, np.newaxis]\n",
        "    ), \n",
        "    axis=1\n",
        ")"
      ]
    },
    {
      "cell_type": "code",
      "execution_count": 92,
      "metadata": {},
      "outputs": [
        {
          "data": {
            "text/plain": [
              "3213"
            ]
          },
          "execution_count": 92,
          "metadata": {},
          "output_type": "execute_result"
        }
      ],
      "source": [
        "len(y)"
      ]
    },
    {
      "cell_type": "code",
      "execution_count": 75,
      "metadata": {
        "id": "5u3R_X_Tbu7e"
      },
      "outputs": [],
      "source": [
        "def splitData(x, y, train_ratio=0.8):\n",
        "    # shuffle data\n",
        "    permutation = np.random.permutation(len(x))\n",
        "    x = x[permutation]\n",
        "    y = y[permutation]\n",
        "\n",
        "    # split data\n",
        "    n_train_samples = int(train_ratio * len(x))\n",
        "    x_train, x_test = x[:n_train_samples], x[n_train_samples:]\n",
        "    y_train, y_test = y[:n_train_samples], y[n_train_samples:]\n",
        "\n",
        "    return x_train, x_test, y_train, y_test"
      ]
    },
    {
      "cell_type": "code",
      "execution_count": 76,
      "metadata": {
        "id": "OESJEClYbu7f"
      },
      "outputs": [],
      "source": [
        "x_train, x_test, y_train, y_test = splitData(x, y)"
      ]
    },
    {
      "cell_type": "code",
      "execution_count": 77,
      "metadata": {
        "id": "dNuvq7A1bu7f"
      },
      "outputs": [],
      "source": [
        "# # to give more weight to minority class\n",
        "# class_weights = class_weight.compute_class_weight('balanced', classes=np.unique(y_train), y=y_train)"
      ]
    },
    {
      "cell_type": "code",
      "execution_count": 78,
      "metadata": {
        "id": "C-Al7nyrbu7f"
      },
      "outputs": [],
      "source": [
        "# x_train = pad_sequences(x_train, dtype='float32')\n",
        "# x_test = pad_sequences(x_test, dtype='float32')\n",
        "\n",
        "# y_train = to_categorical(y_train)\n",
        "# y_test = to_categorical(y_test)"
      ]
    },
    {
      "cell_type": "code",
      "execution_count": 79,
      "metadata": {
        "id": "lFIx1LC-bu7f"
      },
      "outputs": [],
      "source": [
        "#modify NaN to 0\n",
        "x_train = np.nan_to_num(x_train, nan=0)\n",
        "x_test = np.nan_to_num(x_test, nan=0)\n",
        "\n",
        "# y_train = np.array([i[0] for i in y_train])\n",
        "# y_test = np.array([i[0] for i in y_test])"
      ]
    },
    {
      "cell_type": "code",
      "execution_count": 80,
      "metadata": {
        "colab": {
          "base_uri": "https://localhost:8080/"
        },
        "id": "DVgxX5yNdPfC",
        "outputId": "056b2e18-fb57-4133-c529-f37342f002fa"
      },
      "outputs": [
        {
          "data": {
            "text/plain": [
              "(2570, 1248, 6)"
            ]
          },
          "execution_count": 80,
          "metadata": {},
          "output_type": "execute_result"
        }
      ],
      "source": [
        "x_train.shape #2570 data samples, 1248 days, 6 features"
      ]
    },
    {
      "attachments": {},
      "cell_type": "markdown",
      "metadata": {
        "id": "wlTZzsSX01Lf"
      },
      "source": [
        "## Baseline model"
      ]
    },
    {
      "cell_type": "code",
      "execution_count": 81,
      "metadata": {
        "id": "FKqaEYqN7Vs_"
      },
      "outputs": [],
      "source": [
        "from tensorflow.keras.layers import SimpleRNN"
      ]
    },
    {
      "cell_type": "code",
      "execution_count": 82,
      "metadata": {
        "id": "1kitCbJl7oDI"
      },
      "outputs": [],
      "source": [
        "model = Sequential()\n",
        "model.add(SimpleRNN(32, input_shape=(1248, 6)))\n",
        "model.add(Dense(8))\n",
        "model.add(Dense(2, activation='sigmoid'))\n",
        "model.compile(loss='binary_crossentropy', optimizer='adam', metrics=['acc'])"
      ]
    },
    {
      "cell_type": "code",
      "execution_count": 83,
      "metadata": {
        "colab": {
          "base_uri": "https://localhost:8080/"
        },
        "id": "IZoqeNy8Epnp",
        "outputId": "a031812a-dfd2-4c73-f8b8-05b79a413a61"
      },
      "outputs": [
        {
          "name": "stdout",
          "output_type": "stream",
          "text": [
            "Model: \"sequential_2\"\n",
            "_________________________________________________________________\n",
            " Layer (type)                Output Shape              Param #   \n",
            "=================================================================\n",
            " simple_rnn_1 (SimpleRNN)    (None, 32)                1248      \n",
            "                                                                 \n",
            " dense_2 (Dense)             (None, 8)                 264       \n",
            "                                                                 \n",
            " dense_3 (Dense)             (None, 2)                 18        \n",
            "                                                                 \n",
            "=================================================================\n",
            "Total params: 1,530\n",
            "Trainable params: 1,530\n",
            "Non-trainable params: 0\n",
            "_________________________________________________________________\n"
          ]
        }
      ],
      "source": [
        "model.summary()"
      ]
    },
    {
      "cell_type": "code",
      "execution_count": 84,
      "metadata": {
        "colab": {
          "base_uri": "https://localhost:8080/"
        },
        "id": "rmOsNkdpExxk",
        "outputId": "8da39e72-3136-4b8d-83c0-36f5214963af"
      },
      "outputs": [
        {
          "name": "stdout",
          "output_type": "stream",
          "text": [
            "Epoch 1/100\n",
            "81/81 [==============================] - 9s 95ms/step - loss: 0.6357 - acc: 0.5646\n",
            "Epoch 2/100\n",
            "81/81 [==============================] - 8s 99ms/step - loss: 0.6289 - acc: 0.5447\n",
            "Epoch 3/100\n",
            "81/81 [==============================] - 8s 95ms/step - loss: 0.6211 - acc: 0.6226\n",
            "Epoch 4/100\n",
            "81/81 [==============================] - 7s 91ms/step - loss: 0.6160 - acc: 0.5992\n",
            "Epoch 5/100\n",
            "81/81 [==============================] - 8s 94ms/step - loss: 0.6096 - acc: 0.5953\n",
            "Epoch 6/100\n",
            "81/81 [==============================] - 8s 101ms/step - loss: 0.6092 - acc: 0.6109\n",
            "Epoch 7/100\n",
            "81/81 [==============================] - 8s 99ms/step - loss: 0.6130 - acc: 0.5883\n",
            "Epoch 8/100\n",
            "81/81 [==============================] - 9s 109ms/step - loss: 0.6285 - acc: 0.5541\n",
            "Epoch 9/100\n",
            "81/81 [==============================] - 9s 116ms/step - loss: 0.6241 - acc: 0.5661\n",
            "Epoch 10/100\n",
            "81/81 [==============================] - 10s 125ms/step - loss: 0.6215 - acc: 0.5424\n",
            "Epoch 11/100\n",
            "81/81 [==============================] - 9s 116ms/step - loss: 0.6192 - acc: 0.5770\n",
            "Epoch 12/100\n",
            "81/81 [==============================] - 10s 119ms/step - loss: 0.6181 - acc: 0.5405\n",
            "Epoch 13/100\n",
            "81/81 [==============================] - 10s 121ms/step - loss: 0.6186 - acc: 0.5677\n",
            "Epoch 14/100\n",
            "81/81 [==============================] - 10s 119ms/step - loss: 0.6168 - acc: 0.5615\n",
            "Epoch 15/100\n",
            "81/81 [==============================] - 9s 114ms/step - loss: 0.6151 - acc: 0.5693\n",
            "Epoch 16/100\n",
            "81/81 [==============================] - 10s 119ms/step - loss: 0.6148 - acc: 0.5654\n",
            "Epoch 17/100\n",
            "81/81 [==============================] - 9s 114ms/step - loss: 0.6156 - acc: 0.5553\n",
            "Epoch 18/100\n",
            "81/81 [==============================] - 9s 113ms/step - loss: 0.6116 - acc: 0.5743\n",
            "Epoch 19/100\n",
            "81/81 [==============================] - 9s 116ms/step - loss: 0.6119 - acc: 0.5588\n",
            "Epoch 20/100\n",
            "81/81 [==============================] - 9s 115ms/step - loss: 0.6108 - acc: 0.5809\n",
            "Epoch 21/100\n",
            "81/81 [==============================] - 10s 117ms/step - loss: 0.6088 - acc: 0.5708\n",
            "Epoch 22/100\n",
            "81/81 [==============================] - 9s 117ms/step - loss: 0.6153 - acc: 0.5852\n",
            "Epoch 23/100\n",
            "81/81 [==============================] - 10s 122ms/step - loss: 0.6500 - acc: 0.5459\n",
            "Epoch 24/100\n",
            "81/81 [==============================] - 10s 122ms/step - loss: 0.6225 - acc: 0.6132\n",
            "Epoch 25/100\n",
            "81/81 [==============================] - 10s 119ms/step - loss: 0.6232 - acc: 0.5720\n",
            "Epoch 26/100\n",
            "81/81 [==============================] - 10s 118ms/step - loss: 0.6190 - acc: 0.5988\n",
            "Epoch 27/100\n",
            "81/81 [==============================] - 9s 114ms/step - loss: 0.6187 - acc: 0.5751\n",
            "Epoch 28/100\n",
            "81/81 [==============================] - 9s 117ms/step - loss: 0.6178 - acc: 0.5837\n",
            "Epoch 29/100\n",
            "81/81 [==============================] - 10s 120ms/step - loss: 0.6158 - acc: 0.6027\n",
            "Epoch 30/100\n",
            "81/81 [==============================] - 10s 124ms/step - loss: 0.6138 - acc: 0.5875\n",
            "Epoch 31/100\n",
            "81/81 [==============================] - 9s 117ms/step - loss: 0.6120 - acc: 0.6027\n",
            "Epoch 32/100\n",
            "81/81 [==============================] - 10s 119ms/step - loss: 0.6115 - acc: 0.6035\n",
            "Epoch 33/100\n",
            "81/81 [==============================] - 9s 113ms/step - loss: 0.6102 - acc: 0.5969\n",
            "Epoch 34/100\n",
            "81/81 [==============================] - 9s 115ms/step - loss: 0.6106 - acc: 0.5969\n",
            "Epoch 35/100\n",
            "81/81 [==============================] - 9s 112ms/step - loss: 0.6082 - acc: 0.6008\n",
            "Epoch 36/100\n",
            "81/81 [==============================] - 9s 113ms/step - loss: 0.6063 - acc: 0.5899\n",
            "Epoch 37/100\n",
            "81/81 [==============================] - 9s 113ms/step - loss: 0.6060 - acc: 0.6039\n",
            "Epoch 38/100\n",
            "81/81 [==============================] - 9s 113ms/step - loss: 0.6041 - acc: 0.5918\n",
            "Epoch 39/100\n",
            "81/81 [==============================] - 9s 112ms/step - loss: 0.6040 - acc: 0.6121\n",
            "Epoch 40/100\n",
            "81/81 [==============================] - 9s 112ms/step - loss: 0.6031 - acc: 0.6023\n",
            "Epoch 41/100\n",
            "81/81 [==============================] - 9s 117ms/step - loss: 0.6049 - acc: 0.5996\n",
            "Epoch 42/100\n",
            "81/81 [==============================] - 9s 114ms/step - loss: 0.6015 - acc: 0.6047\n",
            "Epoch 43/100\n",
            "81/81 [==============================] - 9s 114ms/step - loss: 0.6010 - acc: 0.6086\n",
            "Epoch 44/100\n",
            "81/81 [==============================] - 9s 114ms/step - loss: 0.6023 - acc: 0.6031\n",
            "Epoch 45/100\n",
            "81/81 [==============================] - 9s 117ms/step - loss: 0.6007 - acc: 0.5965\n",
            "Epoch 46/100\n",
            "81/81 [==============================] - 10s 119ms/step - loss: 0.6007 - acc: 0.6125\n",
            "Epoch 47/100\n",
            "81/81 [==============================] - 10s 120ms/step - loss: 0.6014 - acc: 0.6062\n",
            "Epoch 48/100\n",
            "81/81 [==============================] - 9s 117ms/step - loss: 0.5998 - acc: 0.5949\n",
            "Epoch 49/100\n",
            "81/81 [==============================] - 9s 115ms/step - loss: 0.6020 - acc: 0.6097\n",
            "Epoch 50/100\n",
            "81/81 [==============================] - 9s 113ms/step - loss: 0.6014 - acc: 0.6222\n",
            "Epoch 51/100\n",
            "81/81 [==============================] - 10s 120ms/step - loss: 0.5975 - acc: 0.6156\n",
            "Epoch 52/100\n",
            "81/81 [==============================] - 10s 118ms/step - loss: 0.5960 - acc: 0.6202\n",
            "Epoch 53/100\n",
            "81/81 [==============================] - 9s 114ms/step - loss: 0.5958 - acc: 0.6167\n",
            "Epoch 54/100\n",
            "81/81 [==============================] - 9s 114ms/step - loss: 0.5961 - acc: 0.6152\n",
            "Epoch 55/100\n",
            "81/81 [==============================] - 9s 113ms/step - loss: 0.5963 - acc: 0.6093\n",
            "Epoch 56/100\n",
            "81/81 [==============================] - 9s 113ms/step - loss: 0.5954 - acc: 0.6230\n",
            "Epoch 57/100\n",
            "81/81 [==============================] - 9s 115ms/step - loss: 0.5943 - acc: 0.6187\n",
            "Epoch 58/100\n",
            "81/81 [==============================] - 9s 115ms/step - loss: 0.5908 - acc: 0.6121\n",
            "Epoch 59/100\n",
            "81/81 [==============================] - 8s 98ms/step - loss: 0.5920 - acc: 0.6304\n",
            "Epoch 60/100\n",
            "81/81 [==============================] - 8s 104ms/step - loss: 0.5974 - acc: 0.6214\n",
            "Epoch 61/100\n",
            "81/81 [==============================] - 9s 111ms/step - loss: 0.6042 - acc: 0.6171\n",
            "Epoch 62/100\n",
            "81/81 [==============================] - 9s 114ms/step - loss: 0.5989 - acc: 0.6097\n",
            "Epoch 63/100\n",
            "81/81 [==============================] - 10s 120ms/step - loss: 0.5981 - acc: 0.6171\n",
            "Epoch 64/100\n",
            "81/81 [==============================] - 9s 114ms/step - loss: 0.5985 - acc: 0.5907\n",
            "Epoch 65/100\n",
            "81/81 [==============================] - 9s 115ms/step - loss: 0.5940 - acc: 0.6206\n",
            "Epoch 66/100\n",
            "81/81 [==============================] - 10s 125ms/step - loss: 0.5953 - acc: 0.6187\n",
            "Epoch 67/100\n",
            "81/81 [==============================] - 9s 114ms/step - loss: 0.5914 - acc: 0.6140\n",
            "Epoch 68/100\n",
            "81/81 [==============================] - 9s 113ms/step - loss: 0.5919 - acc: 0.6358\n",
            "Epoch 69/100\n",
            "81/81 [==============================] - 9s 114ms/step - loss: 0.5964 - acc: 0.6311\n",
            "Epoch 70/100\n",
            "81/81 [==============================] - 9s 116ms/step - loss: 0.6079 - acc: 0.6019\n",
            "Epoch 71/100\n",
            "81/81 [==============================] - 9s 114ms/step - loss: 0.6070 - acc: 0.5973\n",
            "Epoch 72/100\n",
            "81/81 [==============================] - 9s 114ms/step - loss: 0.6020 - acc: 0.6086\n",
            "Epoch 73/100\n",
            "81/81 [==============================] - 9s 115ms/step - loss: 0.6007 - acc: 0.6152\n",
            "Epoch 74/100\n",
            "81/81 [==============================] - 10s 119ms/step - loss: 0.5970 - acc: 0.6117\n",
            "Epoch 75/100\n",
            "81/81 [==============================] - 9s 113ms/step - loss: 0.6010 - acc: 0.6074\n",
            "Epoch 76/100\n",
            "81/81 [==============================] - 9s 115ms/step - loss: 0.5983 - acc: 0.6163\n",
            "Epoch 77/100\n",
            "81/81 [==============================] - 9s 117ms/step - loss: 0.5967 - acc: 0.5949\n",
            "Epoch 78/100\n",
            "81/81 [==============================] - 10s 118ms/step - loss: 0.5913 - acc: 0.6276\n",
            "Epoch 79/100\n",
            "81/81 [==============================] - 9s 115ms/step - loss: 0.5940 - acc: 0.6097\n",
            "Epoch 80/100\n",
            "81/81 [==============================] - 10s 117ms/step - loss: 0.5893 - acc: 0.6311\n",
            "Epoch 81/100\n",
            "81/81 [==============================] - 9s 116ms/step - loss: 0.5881 - acc: 0.6218\n",
            "Epoch 82/100\n",
            "81/81 [==============================] - 9s 112ms/step - loss: 0.6013 - acc: 0.6140\n",
            "Epoch 83/100\n",
            "81/81 [==============================] - 9s 114ms/step - loss: 0.5926 - acc: 0.6280\n",
            "Epoch 84/100\n",
            "81/81 [==============================] - 9s 113ms/step - loss: 0.5899 - acc: 0.6327\n",
            "Epoch 85/100\n",
            "81/81 [==============================] - 9s 112ms/step - loss: 0.5869 - acc: 0.6288\n",
            "Epoch 86/100\n",
            "81/81 [==============================] - 9s 112ms/step - loss: 0.5830 - acc: 0.6405\n",
            "Epoch 87/100\n",
            "81/81 [==============================] - 9s 112ms/step - loss: 0.5807 - acc: 0.6346\n",
            "Epoch 88/100\n",
            "81/81 [==============================] - 9s 113ms/step - loss: 0.5801 - acc: 0.6416\n",
            "Epoch 89/100\n",
            "81/81 [==============================] - 9s 113ms/step - loss: 0.5798 - acc: 0.6471\n",
            "Epoch 90/100\n",
            "81/81 [==============================] - 9s 112ms/step - loss: 0.5824 - acc: 0.6307\n",
            "Epoch 91/100\n",
            "81/81 [==============================] - 9s 113ms/step - loss: 0.5815 - acc: 0.6311\n",
            "Epoch 92/100\n",
            "81/81 [==============================] - 9s 114ms/step - loss: 0.5875 - acc: 0.6292\n",
            "Epoch 93/100\n",
            "81/81 [==============================] - 9s 112ms/step - loss: 0.5825 - acc: 0.6486\n",
            "Epoch 94/100\n",
            "81/81 [==============================] - 9s 112ms/step - loss: 0.5781 - acc: 0.6467\n",
            "Epoch 95/100\n",
            "81/81 [==============================] - 9s 115ms/step - loss: 0.5771 - acc: 0.6482\n",
            "Epoch 96/100\n",
            "81/81 [==============================] - 9s 113ms/step - loss: 0.5793 - acc: 0.6444\n",
            "Epoch 97/100\n",
            "81/81 [==============================] - 9s 113ms/step - loss: 0.5777 - acc: 0.6549\n",
            "Epoch 98/100\n",
            "81/81 [==============================] - 9s 113ms/step - loss: 0.5741 - acc: 0.6459\n",
            "Epoch 99/100\n",
            "81/81 [==============================] - 9s 113ms/step - loss: 0.5863 - acc: 0.6272\n",
            "Epoch 100/100\n",
            "81/81 [==============================] - 9s 114ms/step - loss: 0.5813 - acc: 0.6409\n"
          ]
        }
      ],
      "source": [
        "history = model.fit(x_train, y_train, epochs=100)"
      ]
    },
    {
      "cell_type": "code",
      "execution_count": 43,
      "metadata": {
        "id": "aZ747KlVamVO"
      },
      "outputs": [],
      "source": [
        "model.save('rnn_all5_re.h5')"
      ]
    },
    {
      "cell_type": "code",
      "execution_count": 87,
      "metadata": {
        "id": "z7yuMMzsbSM9"
      },
      "outputs": [],
      "source": [
        "# import tensorflow as tf\n",
        "# model = tf.keras.models.load_model('rnn_all5.h5')"
      ]
    },
    {
      "cell_type": "code",
      "execution_count": 90,
      "metadata": {},
      "outputs": [
        {
          "name": "stdout",
          "output_type": "stream",
          "text": [
            "[1, 0]의 개수: 213\n",
            "[0, 1]의 개수: 219\n",
            "[1, 1]의 개수: 211\n"
          ]
        }
      ],
      "source": [
        "count_10 = np.sum((y_test == [1, 0]).all(axis=1))\n",
        "count_01 = np.sum((y_test == [0, 1]).all(axis=1))\n",
        "count_11 = np.sum((y_test == [1, 1]).all(axis=1))\n",
        "\n",
        "print(f\"[1, 0]의 개수: {count_10}\")\n",
        "print(f\"[0, 1]의 개수: {count_01}\")\n",
        "print(f\"[1, 1]의 개수: {count_11}\")"
      ]
    },
    {
      "cell_type": "code",
      "execution_count": 88,
      "metadata": {
        "colab": {
          "base_uri": "https://localhost:8080/"
        },
        "id": "accNBQCOnGzR",
        "outputId": "14f73a11-a964-492a-8cff-d3bb17c8dc30"
      },
      "outputs": [
        {
          "name": "stdout",
          "output_type": "stream",
          "text": [
            "21/21 [==============================] - 1s 28ms/step - loss: 0.5878 - acc: 0.6703\n",
            "21/21 [==============================] - 1s 29ms/step\n"
          ]
        }
      ],
      "source": [
        "loss, accuracy = model.evaluate(x_test, y_test)\n",
        "y_pred_prob = model.predict(x_test)"
      ]
    },
    {
      "cell_type": "code",
      "execution_count": 67,
      "metadata": {
        "id": "LkP9bu38Dwb4"
      },
      "outputs": [],
      "source": [
        "y_pred_label = y_pred_prob > 0.5"
      ]
    },
    {
      "cell_type": "code",
      "execution_count": 68,
      "metadata": {},
      "outputs": [
        {
          "data": {
            "text/plain": [
              "array([[ True,  True],\n",
              "       [ True, False],\n",
              "       [ True,  True],\n",
              "       ...,\n",
              "       [ True,  True],\n",
              "       [ True,  True],\n",
              "       [ True,  True]])"
            ]
          },
          "execution_count": 68,
          "metadata": {},
          "output_type": "execute_result"
        }
      ],
      "source": [
        "y_pred_label"
      ]
    },
    {
      "cell_type": "code",
      "execution_count": 69,
      "metadata": {},
      "outputs": [
        {
          "data": {
            "text/plain": [
              "array([[0.5583722 , 0.7061858 ],\n",
              "       [0.88343173, 0.47012684],\n",
              "       [0.81950146, 0.5209235 ],\n",
              "       ...,\n",
              "       [0.6674997 , 0.56173825],\n",
              "       [0.59161144, 0.678264  ],\n",
              "       [0.5189682 , 0.68528116]], dtype=float32)"
            ]
          },
          "execution_count": 69,
          "metadata": {},
          "output_type": "execute_result"
        }
      ],
      "source": [
        "y_pred_prob"
      ]
    },
    {
      "cell_type": "code",
      "execution_count": 85,
      "metadata": {},
      "outputs": [
        {
          "data": {
            "image/png": "[encoded data removed]",
            "text/plain": [
              "<Figure size 640x480 with 1 Axes>"
            ]
          },
          "metadata": {},
          "output_type": "display_data"
        }
      ],
      "source": [
        "epochs = range(1, len(history.history['acc']) + 1)\n",
        "plt.plot(epochs, history.history['loss'])\n",
        "plt.title('model loss')\n",
        "plt.ylabel('loss')\n",
        "plt.xlabel('epoch')\n",
        "plt.legend(['train'], loc='upper left')\n",
        "plt.show()"
      ]
    },
    {
      "cell_type": "code",
      "execution_count": 86,
      "metadata": {},
      "outputs": [
        {
          "data": {
            "image/png": "[encoded data removed]",
            "text/plain": [
              "<Figure size 640x480 with 1 Axes>"
            ]
          },
          "metadata": {},
          "output_type": "display_data"
        }
      ],
      "source": [
        "epochs = range(1, len(history.history['acc']) + 1)\n",
        "plt.plot(epochs, history.history['acc'])\n",
        "plt.title('model acc')\n",
        "plt.ylabel('acc')\n",
        "plt.xlabel('epoch')\n",
        "plt.legend(['train'], loc='upper left')\n",
        "plt.show()"
      ]
    },
    {
      "cell_type": "code",
      "execution_count": null,
      "metadata": {},
      "outputs": [],
      "source": []
    }
  ],
  "metadata": {
    "accelerator": "GPU",
    "colab": {
      "gpuType": "T4",
      "provenance": []
    },
    "gpuClass": "standard",
    "kernelspec": {
      "display_name": "Python 3",
      "language": "python",
      "name": "python3"
    },
    "language_info": {
      "codemirror_mode": {
        "name": "ipython",
        "version": 3
      },
      "file_extension": ".py",
      "mimetype": "text/x-python",
      "name": "python",
      "nbconvert_exporter": "python",
      "pygments_lexer": "ipython3",
      "version": "3.10.7"
    },
    "orig_nbformat": 4
  },
  "nbformat": 4,
  "nbformat_minor": 0
}
