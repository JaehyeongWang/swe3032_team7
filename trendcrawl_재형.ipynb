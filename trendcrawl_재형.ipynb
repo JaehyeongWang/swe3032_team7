{
  "cells": [
    {
      "attachments": {},
      "cell_type": "markdown",
      "metadata": {
        "id": "kxoa4ezEWBOU"
      },
      "source": [
        "1. 폴더 하나 만들고 거기에 이 파일, value2000.txt, value2000폴더 다운받기\n",
        "2. value2000_search 빈 폴더 만들기\n",
        "3. 자신이 가지고 있는 크롬버전에 맞는 드라이버 설치 https://rimeestore.tistory.com/entry/웹스크래핑-Selenium셀레니움-셋업 "
      ]
    },
    {
      "cell_type": "code",
      "execution_count": 2,
      "metadata": {
        "colab": {
          "base_uri": "https://localhost:8080/"
        },
        "id": "ufs0UUW1SZ1J",
        "outputId": "72c57620-0e52-4026-ffd7-4ef96f94fb88"
      },
      "outputs": [
        {
          "name": "stdout",
          "output_type": "stream",
          "text": [
            "Python 3.10.7\n",
            "4.8.2\n"
          ]
        }
      ],
      "source": [
        "# 느낌표를 붙이면 Shell 명령어로 실행됩니다.\n",
        "!python --version \n",
        "\n",
        "# Selenium을 확인하려면 다음과 같이 사용해야 합니다.\n",
        "import selenium\n",
        "print(selenium.__version__)"
      ]
    },
    {
      "cell_type": "code",
      "execution_count": 3,
      "metadata": {
        "id": "ujbPqPeFV7Ae"
      },
      "outputs": [],
      "source": [
        "from selenium import webdriver\n",
        "from selenium.webdriver.chrome.service import Service\n",
        "from selenium.webdriver.common.keys import Keys\n",
        "#드라이버 초기화\n",
        "from selenium.webdriver.common.by import By\n",
        "from selenium.webdriver.chrome.options import Options\n",
        "from selenium.webdriver.support.ui import WebDriverWait\n",
        "from selenium.webdriver.support import expected_conditions as EC\n",
        "import os\n",
        "import time\n",
        "\n",
        "import pandas as pd"
      ]
    },
    {
      "cell_type": "code",
      "execution_count": 4,
      "metadata": {
        "id": "2zeBcA1KV7Ag"
      },
      "outputs": [],
      "source": [
        "# 맥북만\n",
        "#s = Service('/Users/jewel/Downloads/chromedriver_mac64/chromedriver')\n",
        "\n",
        "options = Options()\n",
        "options.add_argument('--headless')        # Head-less 설정\n",
        "#options.add_argument('--no-sandbox')\n",
        "#options.add_argument('--disable-dev-shm-usage')"
      ]
    },
    {
      "cell_type": "code",
      "execution_count": null,
      "metadata": {
        "colab": {
          "base_uri": "https://localhost:8080/"
        },
        "id": "-nlkbVtKS8Or",
        "outputId": "36b365a7-ee71-49c5-b3f2-90d877ebaba5"
      },
      "outputs": [
        {
          "data": {
            "text/plain": [
              "'C:\\\\Users\\\\노최유하\\\\Desktop\\\\local'"
            ]
          },
          "execution_count": 4,
          "metadata": {},
          "output_type": "execute_result"
        }
      ],
      "source": [
        "pwd"
      ]
    },
    {
      "cell_type": "code",
      "execution_count": 12,
      "metadata": {
        "id": "vD1TrqeXV7Ag"
      },
      "outputs": [],
      "source": [
        "f = open('./value2000.txt', 'r')\n",
        "file_names = f.readlines()\n",
        "f.close()\n",
        "\n",
        "def get_csv(start, finish):\n",
        "\n",
        "    for ind, file_name in enumerate(file_names[start:finish]):\n",
        "        file_name = file_name.split('.')[0]\n",
        "        print(ind+start, file_name)\n",
        "        URL = 'https://trends.google.co.kr/trends/explore'\n",
        "        # 맥북\n",
        "        #driver = webdriver.Chrome(service=s, options=options)\n",
        "        # 윈도우\n",
        "        driver = webdriver.Chrome('chromedriver')\n",
        "        driver.get(URL)\n",
        "\n",
        "        URL = f'https://trends.google.co.kr/trends/explore?date=today%205-y&q={file_name}'\n",
        "        driver.get(URL)\n",
        "        driver.implicitly_wait(60)\n",
        "\n",
        "        driver.find_element(By.XPATH, '/html/body/div[3]/div[2]/div/md-content/div/div/div[1]/trends-widget/ng-include/widget/div/div/div/widget-actions/div/button[1]').click()\n",
        "        print('downloaded')\n",
        "        driver.quit()\n",
        "\n",
        "        df = pd.read_csv('C:/Users/jahye/Downloads/multiTimeline.csv')\n",
        "        df.columns = [file_name]\n",
        "        df.drop('주', axis=0, inplace=True)\n",
        "        df.to_csv(f'./value2000_search/{file_name}.csv')"
      ]
    },
    {
      "cell_type": "code",
      "execution_count": null,
      "metadata": {
        "id": "x4HB6e1GV7Ag"
      },
      "outputs": [],
      "source": [
        "# 재현\n",
        "get_csv(0,300)"
      ]
    },
    {
      "cell_type": "code",
      "execution_count": null,
      "metadata": {
        "id": "gnlUu_HmV7Ah"
      },
      "outputs": [],
      "source": [
        "# 혜인\n",
        "get_csv(300,800)"
      ]
    },
    {
      "cell_type": "code",
      "execution_count": null,
      "metadata": {
        "id": "0L6U-JODV7Ah",
        "outputId": "866dd1b7-304a-486d-9005-3a8a18ff2c1b"
      },
      "outputs": [
        {
          "name": "stdout",
          "output_type": "stream",
          "text": [
            "550 RWT\n"
          ]
        },
        {
          "ename": "NoSuchElementException",
          "evalue": "Message: no such element: Unable to locate element: {\"method\":\"xpath\",\"selector\":\"/html/body/div[3]/div[2]/div/md-content/div/div/div[1]/trends-widget/ng-include/widget/div/div/div/widget-actions/div/button[1]\"}\n  (Session info: chrome=113.0.5672.127)\nStacktrace:\nBacktrace:\n\tGetHandleVerifier [0x00DE8893+48451]\n\t(No symbol) [0x00D7B8A1]\n\t(No symbol) [0x00C85058]\n\t(No symbol) [0x00CB0467]\n\t(No symbol) [0x00CB069B]\n\t(No symbol) [0x00CDDD92]\n\t(No symbol) [0x00CCA304]\n\t(No symbol) [0x00CDC482]\n\t(No symbol) [0x00CCA0B6]\n\t(No symbol) [0x00CA7E08]\n\t(No symbol) [0x00CA8F2D]\n\tGetHandleVerifier [0x01048E3A+2540266]\n\tGetHandleVerifier [0x01088959+2801161]\n\tGetHandleVerifier [0x0108295C+2776588]\n\tGetHandleVerifier [0x00E72280+612144]\n\t(No symbol) [0x00D84F6C]\n\t(No symbol) [0x00D811D8]\n\t(No symbol) [0x00D812BB]\n\t(No symbol) [0x00D74857]\n\tBaseThreadInitThunk [0x758300C9+25]\n\tRtlGetAppContainerNamedObjectPath [0x76EF7B4E+286]\n\tRtlGetAppContainerNamedObjectPath [0x76EF7B1E+238]\n",
          "output_type": "error",
          "traceback": [
            "\u001b[1;31m---------------------------------------------------------------------------\u001b[0m",
            "\u001b[1;31mNoSuchElementException\u001b[0m                    Traceback (most recent call last)",
            "Cell \u001b[1;32mIn[9], line 3\u001b[0m\n\u001b[0;32m      1\u001b[0m \u001b[38;5;66;03m# 유하\u001b[39;00m\n\u001b[0;32m      2\u001b[0m \u001b[38;5;66;03m#get_csv(800,1326)\u001b[39;00m\n\u001b[1;32m----> 3\u001b[0m \u001b[43mget_csv\u001b[49m\u001b[43m(\u001b[49m\u001b[38;5;241;43m550\u001b[39;49m\u001b[43m,\u001b[49m\u001b[43m \u001b[49m\u001b[38;5;241;43m675\u001b[39;49m\u001b[43m)\u001b[49m\n",
            "Cell \u001b[1;32mIn[8], line 21\u001b[0m, in \u001b[0;36mget_csv\u001b[1;34m(start, finish)\u001b[0m\n\u001b[0;32m     18\u001b[0m driver\u001b[38;5;241m.\u001b[39mget(URL)\n\u001b[0;32m     19\u001b[0m driver\u001b[38;5;241m.\u001b[39mimplicitly_wait(\u001b[38;5;241m60\u001b[39m)\n\u001b[1;32m---> 21\u001b[0m \u001b[43mdriver\u001b[49m\u001b[38;5;241;43m.\u001b[39;49m\u001b[43mfind_element\u001b[49m\u001b[43m(\u001b[49m\u001b[43mBy\u001b[49m\u001b[38;5;241;43m.\u001b[39;49m\u001b[43mXPATH\u001b[49m\u001b[43m,\u001b[49m\u001b[43m \u001b[49m\u001b[38;5;124;43m'\u001b[39;49m\u001b[38;5;124;43m/html/body/div[3]/div[2]/div/md-content/div/div/div[1]/trends-widget/ng-include/widget/div/div/div/widget-actions/div/button[1]\u001b[39;49m\u001b[38;5;124;43m'\u001b[39;49m\u001b[43m)\u001b[49m\u001b[38;5;241m.\u001b[39mclick()\n\u001b[0;32m     22\u001b[0m \u001b[38;5;28mprint\u001b[39m(\u001b[38;5;124m'\u001b[39m\u001b[38;5;124mdownloaded\u001b[39m\u001b[38;5;124m'\u001b[39m)\n\u001b[0;32m     23\u001b[0m driver\u001b[38;5;241m.\u001b[39mquit()\n",
            "File \u001b[1;32mD:\\Anaconda3_envs\\myenv\\Lib\\site-packages\\selenium\\webdriver\\remote\\webdriver.py:831\u001b[0m, in \u001b[0;36mWebDriver.find_element\u001b[1;34m(self, by, value)\u001b[0m\n\u001b[0;32m    828\u001b[0m     by \u001b[38;5;241m=\u001b[39m By\u001b[38;5;241m.\u001b[39mCSS_SELECTOR\n\u001b[0;32m    829\u001b[0m     value \u001b[38;5;241m=\u001b[39m \u001b[38;5;124mf\u001b[39m\u001b[38;5;124m'\u001b[39m\u001b[38;5;124m[name=\u001b[39m\u001b[38;5;124m\"\u001b[39m\u001b[38;5;132;01m{\u001b[39;00mvalue\u001b[38;5;132;01m}\u001b[39;00m\u001b[38;5;124m\"\u001b[39m\u001b[38;5;124m]\u001b[39m\u001b[38;5;124m'\u001b[39m\n\u001b[1;32m--> 831\u001b[0m \u001b[38;5;28;01mreturn\u001b[39;00m \u001b[38;5;28;43mself\u001b[39;49m\u001b[38;5;241;43m.\u001b[39;49m\u001b[43mexecute\u001b[49m\u001b[43m(\u001b[49m\u001b[43mCommand\u001b[49m\u001b[38;5;241;43m.\u001b[39;49m\u001b[43mFIND_ELEMENT\u001b[49m\u001b[43m,\u001b[49m\u001b[43m \u001b[49m\u001b[43m{\u001b[49m\u001b[38;5;124;43m\"\u001b[39;49m\u001b[38;5;124;43musing\u001b[39;49m\u001b[38;5;124;43m\"\u001b[39;49m\u001b[43m:\u001b[49m\u001b[43m \u001b[49m\u001b[43mby\u001b[49m\u001b[43m,\u001b[49m\u001b[43m \u001b[49m\u001b[38;5;124;43m\"\u001b[39;49m\u001b[38;5;124;43mvalue\u001b[39;49m\u001b[38;5;124;43m\"\u001b[39;49m\u001b[43m:\u001b[49m\u001b[43m \u001b[49m\u001b[43mvalue\u001b[49m\u001b[43m}\u001b[49m\u001b[43m)\u001b[49m[\u001b[38;5;124m\"\u001b[39m\u001b[38;5;124mvalue\u001b[39m\u001b[38;5;124m\"\u001b[39m]\n",
            "File \u001b[1;32mD:\\Anaconda3_envs\\myenv\\Lib\\site-packages\\selenium\\webdriver\\remote\\webdriver.py:440\u001b[0m, in \u001b[0;36mWebDriver.execute\u001b[1;34m(self, driver_command, params)\u001b[0m\n\u001b[0;32m    438\u001b[0m response \u001b[38;5;241m=\u001b[39m \u001b[38;5;28mself\u001b[39m\u001b[38;5;241m.\u001b[39mcommand_executor\u001b[38;5;241m.\u001b[39mexecute(driver_command, params)\n\u001b[0;32m    439\u001b[0m \u001b[38;5;28;01mif\u001b[39;00m response:\n\u001b[1;32m--> 440\u001b[0m     \u001b[38;5;28;43mself\u001b[39;49m\u001b[38;5;241;43m.\u001b[39;49m\u001b[43merror_handler\u001b[49m\u001b[38;5;241;43m.\u001b[39;49m\u001b[43mcheck_response\u001b[49m\u001b[43m(\u001b[49m\u001b[43mresponse\u001b[49m\u001b[43m)\u001b[49m\n\u001b[0;32m    441\u001b[0m     response[\u001b[38;5;124m\"\u001b[39m\u001b[38;5;124mvalue\u001b[39m\u001b[38;5;124m\"\u001b[39m] \u001b[38;5;241m=\u001b[39m \u001b[38;5;28mself\u001b[39m\u001b[38;5;241m.\u001b[39m_unwrap_value(response\u001b[38;5;241m.\u001b[39mget(\u001b[38;5;124m\"\u001b[39m\u001b[38;5;124mvalue\u001b[39m\u001b[38;5;124m\"\u001b[39m, \u001b[38;5;28;01mNone\u001b[39;00m))\n\u001b[0;32m    442\u001b[0m     \u001b[38;5;28;01mreturn\u001b[39;00m response\n",
            "File \u001b[1;32mD:\\Anaconda3_envs\\myenv\\Lib\\site-packages\\selenium\\webdriver\\remote\\errorhandler.py:245\u001b[0m, in \u001b[0;36mErrorHandler.check_response\u001b[1;34m(self, response)\u001b[0m\n\u001b[0;32m    243\u001b[0m         alert_text \u001b[38;5;241m=\u001b[39m value[\u001b[38;5;124m\"\u001b[39m\u001b[38;5;124malert\u001b[39m\u001b[38;5;124m\"\u001b[39m]\u001b[38;5;241m.\u001b[39mget(\u001b[38;5;124m\"\u001b[39m\u001b[38;5;124mtext\u001b[39m\u001b[38;5;124m\"\u001b[39m)\n\u001b[0;32m    244\u001b[0m     \u001b[38;5;28;01mraise\u001b[39;00m exception_class(message, screen, stacktrace, alert_text)  \u001b[38;5;66;03m# type: ignore[call-arg]  # mypy is not smart enough here\u001b[39;00m\n\u001b[1;32m--> 245\u001b[0m \u001b[38;5;28;01mraise\u001b[39;00m exception_class(message, screen, stacktrace)\n",
            "\u001b[1;31mNoSuchElementException\u001b[0m: Message: no such element: Unable to locate element: {\"method\":\"xpath\",\"selector\":\"/html/body/div[3]/div[2]/div/md-content/div/div/div[1]/trends-widget/ng-include/widget/div/div/div/widget-actions/div/button[1]\"}\n  (Session info: chrome=113.0.5672.127)\nStacktrace:\nBacktrace:\n\tGetHandleVerifier [0x00DE8893+48451]\n\t(No symbol) [0x00D7B8A1]\n\t(No symbol) [0x00C85058]\n\t(No symbol) [0x00CB0467]\n\t(No symbol) [0x00CB069B]\n\t(No symbol) [0x00CDDD92]\n\t(No symbol) [0x00CCA304]\n\t(No symbol) [0x00CDC482]\n\t(No symbol) [0x00CCA0B6]\n\t(No symbol) [0x00CA7E08]\n\t(No symbol) [0x00CA8F2D]\n\tGetHandleVerifier [0x01048E3A+2540266]\n\tGetHandleVerifier [0x01088959+2801161]\n\tGetHandleVerifier [0x0108295C+2776588]\n\tGetHandleVerifier [0x00E72280+612144]\n\t(No symbol) [0x00D84F6C]\n\t(No symbol) [0x00D811D8]\n\t(No symbol) [0x00D812BB]\n\t(No symbol) [0x00D74857]\n\tBaseThreadInitThunk [0x758300C9+25]\n\tRtlGetAppContainerNamedObjectPath [0x76EF7B4E+286]\n\tRtlGetAppContainerNamedObjectPath [0x76EF7B1E+238]\n"
          ]
        }
      ],
      "source": [
        "# 유하\n",
        "#get_csv(800,1326)\n",
        "get_csv(550, 675)"
      ]
    },
    {
      "cell_type": "code",
      "execution_count": 13,
      "metadata": {
        "id": "bGmtLDDrtjo7"
      },
      "outputs": [
        {
          "name": "stdout",
          "output_type": "stream",
          "text": [
            "675 AROC\n",
            "downloaded\n",
            "676 MATW\n",
            "downloaded\n",
            "677 KLR\n",
            "downloaded\n",
            "678 PNFP\n",
            "downloaded\n",
            "679 NPO\n",
            "downloaded\n",
            "680 GNW\n",
            "downloaded\n",
            "681 PNM\n",
            "downloaded\n",
            "682 WGS\n",
            "downloaded\n",
            "683 PKBK\n",
            "downloaded\n",
            "684 NHI\n",
            "downloaded\n",
            "685 INO\n",
            "downloaded\n",
            "686 FIS\n",
            "downloaded\n",
            "687 GNTY\n",
            "downloaded\n",
            "688 VLTA\n",
            "downloaded\n",
            "689 RNST\n",
            "downloaded\n",
            "690 KD\n",
            "downloaded\n",
            "691 ANF\n",
            "downloaded\n",
            "692 ESNT\n",
            "downloaded\n",
            "693 ABR\n",
            "downloaded\n",
            "694 ACA\n",
            "downloaded\n",
            "695 STRO\n",
            "downloaded\n",
            "696 MNRO\n",
            "downloaded\n",
            "697 VTR\n",
            "downloaded\n",
            "698 SHO\n",
            "downloaded\n",
            "699 LADR\n",
            "downloaded\n",
            "700 SB\n",
            "downloaded\n",
            "701 BHLB\n",
            "downloaded\n",
            "702 RF\n",
            "downloaded\n",
            "703 SCHL\n",
            "downloaded\n",
            "704 AMAL\n",
            "downloaded\n",
            "705 CRNC\n",
            "downloaded\n",
            "706 FATH\n",
            "downloaded\n",
            "707 HTLD\n",
            "downloaded\n",
            "708 SASR\n",
            "downloaded\n",
            "709 AMCR\n",
            "downloaded\n",
            "710 CENN\n",
            "downloaded\n",
            "711 TAP\n",
            "downloaded\n",
            "712 FMBH\n",
            "downloaded\n",
            "713 DHC\n",
            "downloaded\n",
            "714 AVA\n",
            "downloaded\n",
            "715 MBI\n",
            "downloaded\n",
            "716 AMNB\n",
            "downloaded\n",
            "717 DHT\n",
            "downloaded\n",
            "718 CMI\n",
            "downloaded\n",
            "719 MLKN\n",
            "downloaded\n",
            "720 VTS\n",
            "downloaded\n",
            "721 ST\n",
            "downloaded\n",
            "722 FRO\n",
            "downloaded\n",
            "723 KMPR\n",
            "downloaded\n",
            "724 NRIX\n",
            "downloaded\n",
            "725 MGNI\n",
            "downloaded\n",
            "726 KE\n",
            "downloaded\n",
            "727 GNTX\n",
            "downloaded\n",
            "728 CVT\n",
            "downloaded\n",
            "729 AMK\n",
            "downloaded\n",
            "730 AZTA\n",
            "downloaded\n",
            "731 KR\n",
            "downloaded\n",
            "732 INN\n",
            "downloaded\n",
            "733 ANGO\n",
            "downloaded\n",
            "734 TWNK\n",
            "downloaded\n",
            "735 RXT\n",
            "downloaded\n",
            "736 SIGI\n",
            "downloaded\n",
            "737 PLD\n",
            "downloaded\n",
            "738 USB\n",
            "downloaded\n",
            "739 BSX\n",
            "downloaded\n",
            "740 COLM\n",
            "downloaded\n",
            "741 NEO\n",
            "downloaded\n",
            "742 BBCP\n",
            "downloaded\n",
            "743 EVR\n",
            "downloaded\n",
            "744 LKQ\n",
            "downloaded\n",
            "745 BLUE\n",
            "downloaded\n",
            "746 BHE\n",
            "downloaded\n",
            "747 JOUT\n",
            "downloaded\n",
            "748 BHR\n",
            "downloaded\n",
            "749 ENOB\n",
            "downloaded\n",
            "750 PVH\n",
            "downloaded\n",
            "751 WEYS\n",
            "downloaded\n",
            "752 BHG\n",
            "downloaded\n",
            "753 AROW\n",
            "downloaded\n",
            "754 GOGL\n",
            "downloaded\n",
            "755 PEAK\n",
            "downloaded\n",
            "756 IAC\n",
            "downloaded\n",
            "757 GTES\n",
            "downloaded\n",
            "758 SPGI\n",
            "downloaded\n",
            "759 NEM\n",
            "downloaded\n",
            "760 CVBF\n",
            "downloaded\n",
            "761 LLAP\n",
            "downloaded\n",
            "762 WFC\n",
            "downloaded\n",
            "763 CTVA\n",
            "downloaded\n",
            "764 HOMB\n",
            "downloaded\n",
            "765 CUZ\n",
            "downloaded\n",
            "766 TMST\n",
            "downloaded\n",
            "767 GS\n",
            "downloaded\n",
            "768 OMF\n",
            "downloaded\n",
            "769 AVNW\n",
            "downloaded\n",
            "770 SOFI\n",
            "downloaded\n",
            "771 MPLN\n",
            "downloaded\n",
            "772 GD\n",
            "downloaded\n",
            "773 CNP\n",
            "downloaded\n",
            "774 AVT\n",
            "downloaded\n",
            "775 CRBU\n",
            "downloaded\n",
            "776 PM\n",
            "downloaded\n",
            "777 HOUS\n",
            "downloaded\n",
            "778 VREX\n",
            "downloaded\n",
            "779 BMRC\n",
            "downloaded\n",
            "780 CAH\n",
            "downloaded\n",
            "781 TBI\n",
            "downloaded\n",
            "782 AMBC\n",
            "downloaded\n",
            "783 BFLY\n",
            "downloaded\n",
            "784 REVG\n",
            "downloaded\n",
            "785 IMKTA\n",
            "downloaded\n",
            "786 SGC\n",
            "downloaded\n",
            "787 HTLF\n",
            "downloaded\n",
            "788 DGX\n",
            "downloaded\n",
            "789 VVX\n",
            "downloaded\n",
            "790 AVB\n",
            "downloaded\n",
            "791 LFCR\n",
            "downloaded\n",
            "792 MCY\n",
            "downloaded\n",
            "793 RS\n",
            "downloaded\n",
            "794 TNK\n",
            "downloaded\n",
            "795 TMP\n",
            "downloaded\n",
            "796 ACT\n",
            "downloaded\n",
            "797 LDOS\n",
            "downloaded\n",
            "798 MTG\n",
            "downloaded\n",
            "799 POWL\n",
            "downloaded\n"
          ]
        }
      ],
      "source": [
        "get_csv(675,800)"
      ]
    },
    {
      "cell_type": "code",
      "execution_count": null,
      "metadata": {},
      "outputs": [],
      "source": []
    }
  ],
  "metadata": {
    "colab": {
      "provenance": []
    },
    "kernelspec": {
      "display_name": "Python 3 (ipykernel)",
      "language": "python",
      "name": "python3"
    },
    "language_info": {
      "codemirror_mode": {
        "name": "ipython",
        "version": 3
      },
      "file_extension": ".py",
      "mimetype": "text/x-python",
      "name": "python",
      "nbconvert_exporter": "python",
      "pygments_lexer": "ipython3",
      "version": "3.10.7"
    }
  },
  "nbformat": 4,
  "nbformat_minor": 0
}
