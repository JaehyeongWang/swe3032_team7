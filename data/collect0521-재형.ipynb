{
 "cells": [
  {
   "cell_type": "code",
   "execution_count": 2,
   "metadata": {},
   "outputs": [],
   "source": [
    "import yfinance as yf\n",
    "import pandas as pd"
   ]
  },
  {
   "cell_type": "code",
   "execution_count": 3,
   "metadata": {},
   "outputs": [],
   "source": [
    "# call stocks name\n",
    "read_growth = pd.read_csv('growth.csv', header = None)\n",
    "growths = read_growth.values.tolist()[0]\n",
    "\n",
    "read_value = pd.read_csv('value.csv', header = None)\n",
    "values = read_value.values.tolist()[0]\n",
    "\n",
    "read_growth2 = pd.read_csv('growth2000.csv', header = None)\n",
    "growths2 = read_growth2.values.tolist()[0]\n",
    "\n",
    "read_value2 = pd.read_csv('value2000.csv', header = None)\n",
    "values2 = read_value2.values.tolist()[0]"
   ]
  },
  {
   "cell_type": "code",
   "execution_count": 4,
   "metadata": {},
   "outputs": [],
   "source": [
    "# check overlap stocks\n",
    "overlap = set(growths) & set(values)\n",
    "netGrowths = set(growths) - set(overlap)\n",
    "netValues = set(values) - set(overlap)\n",
    "\n",
    "overlap2 = set(growths2) & set(values2)\n",
    "netGrowths2 = set(growths2) - set(overlap2)\n",
    "netValues2 = set(values2) - set(overlap2)"
   ]
  },
  {
   "cell_type": "code",
   "execution_count": 5,
   "metadata": {},
   "outputs": [],
   "source": [
    "# merge 1000 and 2000 stocks\n",
    "netTotalGrowths = list(netGrowths) + list(netGrowths2)\n",
    "netTotalValues = list(netValues) + list(netValues2)\n",
    "TotalOverlap = list(overlap) + list(overlap2)"
   ]
  },
  {
   "cell_type": "code",
   "execution_count": null,
   "metadata": {},
   "outputs": [],
   "source": [
    "print(\"expected number of growth stocks:\",len(netTotalGrowths))\n",
    "print(\"expected number of value stocks:\",len(netTotalValues))\n",
    "print(\"expected number of overlap stocks:\",len(TotalOverlap))"
   ]
  },
  {
   "cell_type": "code",
   "execution_count": 8,
   "metadata": {},
   "outputs": [
    {
     "name": "stdout",
     "output_type": "stream",
     "text": [
      "TFM: Period '1d' is invalid, must be one of ['1mo', '3mo', '6mo', 'ytd', '1y', '2y', '5y', '10y', 'max']\n",
      "Got error from yahoo api for ticker GTXI, Error: {'code': 'Not Found', 'description': 'No data found, symbol may be delisted'}\n",
      "- GTXI: No timezone found, symbol may be delisted\n",
      "Got error from yahoo api for ticker CWENA, Error: {'code': 'Not Found', 'description': 'No data found, symbol may be delisted'}\n",
      "- CWENA: No timezone found, symbol may be delisted\n"
     ]
    }
   ],
   "source": [
    "# for growth stocks\n",
    "for i in netTotalGrowths:\n",
    "    try:\n",
    "        tickerSymbol = i\n",
    "        tickerData = yf.Ticker(tickerSymbol)\n",
    "        tickerDf = tickerData.history(period='1d', start='2018-5-20', end='2023-05-12')\n",
    "        tickerDf.drop('Dividends', axis=1, inplace=True)\n",
    "        tickerDf.drop('Stock Splits', axis=1, inplace=True)\n",
    "        tickerDf.reset_index(inplace=True)\n",
    "        tickerDf['Date'] = pd.to_datetime(tickerDf['Date']).dt.strftime('%Y-%m-%d')\n",
    "        tickerDf.to_csv('growth/'+tickerSymbol+'.csv', index=False)\n",
    "    except:\n",
    "        continue"
   ]
  },
  {
   "cell_type": "code",
   "execution_count": 9,
   "metadata": {},
   "outputs": [
    {
     "name": "stdout",
     "output_type": "stream",
     "text": [
      "Got error from yahoo api for ticker ARD, Error: {'code': 'Not Found', 'description': 'No data found, symbol may be delisted'}\n",
      "- ARD: No timezone found, symbol may be delisted\n",
      "Got error from yahoo api for ticker LENB, Error: {'code': 'Not Found', 'description': 'No data found, symbol may be delisted'}\n",
      "- LENB: No timezone found, symbol may be delisted\n",
      "Got error from yahoo api for ticker BRKB, Error: {'code': 'Not Found', 'description': 'No data found, symbol may be delisted'}\n",
      "- BRKB: No timezone found, symbol may be delisted\n",
      "Got error from yahoo api for ticker UHALB, Error: {'code': 'Not Found', 'description': 'No data found, symbol may be delisted'}\n",
      "- UHALB: No timezone found, symbol may be delisted\n",
      "Got error from yahoo api for ticker RTL US, Error: {'code': 'Not Found', 'description': 'No data found, symbol may be delisted'}\n",
      "- RTL US: No timezone found, symbol may be delisted\n",
      "CRDA: Period '1d' is invalid, must be one of ['1mo', '3mo', '6mo', 'ytd', '1y', '2y', '5y', '10y', 'max']\n",
      "Got error from yahoo api for ticker AAWW, Error: {'code': 'Not Found', 'description': 'No data found, symbol may be delisted'}\n",
      "- AAWW: No timezone found, symbol may be delisted\n",
      "Got error from yahoo api for ticker LGFA, Error: {'code': 'Not Found', 'description': 'No data found, symbol may be delisted'}\n",
      "- LGFA: No timezone found, symbol may be delisted\n",
      "Got error from yahoo api for ticker P5N994, Error: {'code': 'Not Found', 'description': 'No data found, symbol may be delisted'}\n",
      "- P5N994: No timezone found, symbol may be delisted\n",
      "Got error from yahoo api for ticker LGFB, Error: {'code': 'Not Found', 'description': 'No data found, symbol may be delisted'}\n",
      "- LGFB: No timezone found, symbol may be delisted\n",
      "Got error from yahoo api for ticker PLM RT, Error: {'code': 'Not Found', 'description': 'No data found, symbol may be delisted'}\n",
      "- PLM RT: No timezone found, symbol may be delisted\n"
     ]
    }
   ],
   "source": [
    "# for value stocks\n",
    "for i in netTotalValues:\n",
    "    try:\n",
    "        tickerSymbol = i\n",
    "        tickerData = yf.Ticker(tickerSymbol)\n",
    "        tickerDf = tickerData.history(period='1d', start='2018-5-20', end='2023-05-12')\n",
    "        tickerDf.drop('Dividends', axis=1, inplace=True)\n",
    "        tickerDf.drop('Stock Splits', axis=1, inplace=True)\n",
    "        tickerDf.reset_index(inplace=True)\n",
    "        tickerDf['Date'] = pd.to_datetime(tickerDf['Date']).dt.strftime('%Y-%m-%d')\n",
    "        tickerDf.to_csv('value/'+tickerSymbol+'.csv', index=False)\n",
    "    except:\n",
    "        continue"
   ]
  },
  {
   "cell_type": "code",
   "execution_count": 6,
   "metadata": {},
   "outputs": [
    {
     "name": "stdout",
     "output_type": "stream",
     "text": [
      "Got error from yahoo api for ticker BFB, Error: {'code': 'Not Found', 'description': 'No data found, symbol may be delisted'}\n",
      "- BFB: No timezone found, symbol may be delisted\n",
      "Got error from yahoo api for ticker HEIA, Error: {'code': 'Not Found', 'description': 'No data found, symbol may be delisted'}\n",
      "- HEIA: No timezone found, symbol may be delisted\n",
      "Got error from yahoo api for ticker BFA, Error: {'code': 'Not Found', 'description': 'No data found, symbol may be delisted'}\n",
      "- BFA: No timezone found, symbol may be delisted\n",
      "Got error from yahoo api for ticker RXO WI, Error: {'code': 'Not Found', 'description': 'No data found, symbol may be delisted'}\n",
      "- RXO WI: No timezone found, symbol may be delisted\n",
      "Got error from yahoo api for ticker SIVB, Error: {'code': 'Not Found', 'description': 'No data found, symbol may be delisted'}\n",
      "- SIVB: No timezone found, symbol may be delisted\n",
      "Got error from yahoo api for ticker PFHC, Error: {'code': 'Not Found', 'description': 'No data found, symbol may be delisted'}\n",
      "- PFHC: No timezone found, symbol may be delisted\n",
      "Got error from yahoo api for ticker MOGA, Error: {'code': 'Not Found', 'description': 'No data found, symbol may be delisted'}\n",
      "- MOGA: No timezone found, symbol may be delisted\n",
      "Got error from yahoo api for ticker ADRO, Error: {'code': 'Not Found', 'description': 'No data found, symbol may be delisted'}\n",
      "- ADRO: No timezone found, symbol may be delisted\n",
      "Got error from yahoo api for ticker GEFB, Error: {'code': 'Not Found', 'description': 'No data found, symbol may be delisted'}\n",
      "- GEFB: No timezone found, symbol may be delisted\n",
      "Got error from yahoo api for ticker BHM WI, Error: {'code': 'Not Found', 'description': 'No data found, symbol may be delisted'}\n",
      "- BHM WI: No timezone found, symbol may be delisted\n"
     ]
    }
   ],
   "source": [
    "# for overlap stocks\n",
    "for i in TotalOverlap:\n",
    "    try:\n",
    "        tickerSymbol = i\n",
    "        tickerData = yf.Ticker(tickerSymbol)\n",
    "        tickerDf = tickerData.history(period='1d', start='2018-5-20', end='2023-05-12')\n",
    "        tickerDf.drop('Dividends', axis=1, inplace=True)\n",
    "        tickerDf.drop('Stock Splits', axis=1, inplace=True)\n",
    "        tickerDf.reset_index(inplace=True)\n",
    "        tickerDf['Date'] = pd.to_datetime(tickerDf['Date']).dt.strftime('%Y-%m-%d')\n",
    "        tickerDf.to_csv('overlap/'+tickerSymbol+'.csv', index=False)\n",
    "    except:\n",
    "        continue"
   ]
  },
  {
   "cell_type": "code",
   "execution_count": null,
   "metadata": {},
   "outputs": [],
   "source": []
  }
 ],
 "metadata": {
  "kernelspec": {
   "display_name": "Python 3",
   "language": "python",
   "name": "python3"
  },
  "language_info": {
   "codemirror_mode": {
    "name": "ipython",
    "version": 3
   },
   "file_extension": ".py",
   "mimetype": "text/x-python",
   "name": "python",
   "nbconvert_exporter": "python",
   "pygments_lexer": "ipython3",
   "version": "3.10.7"
  },
  "orig_nbformat": 4
 },
 "nbformat": 4,
 "nbformat_minor": 2
}
