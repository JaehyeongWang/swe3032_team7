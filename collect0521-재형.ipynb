{
 "cells": [
  {
   "cell_type": "code",
   "execution_count": 1,
   "metadata": {},
   "outputs": [
    {
     "name": "stdout",
     "output_type": "stream",
     "text": [
      "Collecting yfinance\n",
      "  Downloading yfinance-0.2.18-py2.py3-none-any.whl (60 kB)\n",
      "     ---------------------------------------- 0.0/60.3 kB ? eta -:--:--\n",
      "     ---------------------------------------- 60.3/60.3 kB ? eta 0:00:00\n",
      "Requirement already satisfied: numpy>=1.16.5 in c:\\python310\\lib\\site-packages (from yfinance) (1.23.3)\n",
      "Collecting appdirs>=1.4.4\n",
      "  Downloading appdirs-1.4.4-py2.py3-none-any.whl (9.6 kB)\n",
      "Requirement already satisfied: requests>=2.26 in c:\\python310\\lib\\site-packages (from yfinance) (2.28.2)\n",
      "Collecting html5lib>=1.1\n",
      "  Downloading html5lib-1.1-py2.py3-none-any.whl (112 kB)\n",
      "     ---------------------------------------- 0.0/112.2 kB ? eta -:--:--\n",
      "     -------------------------------------- 112.2/112.2 kB 6.4 MB/s eta 0:00:00\n",
      "Collecting lxml>=4.9.1\n",
      "  Downloading lxml-4.9.2-cp310-cp310-win_amd64.whl (3.8 MB)\n",
      "     ---------------------------------------- 0.0/3.8 MB ? eta -:--:--\n",
      "     ----------------- ---------------------- 1.6/3.8 MB 51.5 MB/s eta 0:00:01\n",
      "     ------------------------------------- -- 3.5/3.8 MB 44.9 MB/s eta 0:00:01\n",
      "     ---------------------------------------- 3.8/3.8 MB 34.5 MB/s eta 0:00:00\n",
      "Collecting cryptography>=3.3.2\n",
      "  Downloading cryptography-40.0.2-cp36-abi3-win_amd64.whl (2.6 MB)\n",
      "     ---------------------------------------- 0.0/2.6 MB ? eta -:--:--\n",
      "     ----------------------- ---------------- 1.5/2.6 MB 48.6 MB/s eta 0:00:01\n",
      "     ---------------------------------------- 2.6/2.6 MB 41.3 MB/s eta 0:00:00\n",
      "Collecting frozendict>=2.3.4\n",
      "  Downloading frozendict-2.3.8-cp310-cp310-win_amd64.whl (35 kB)\n",
      "Requirement already satisfied: pytz>=2022.5 in c:\\python310\\lib\\site-packages (from yfinance) (2022.7.1)\n",
      "Collecting multitasking>=0.0.7\n",
      "  Downloading multitasking-0.0.11-py3-none-any.whl (8.5 kB)\n",
      "Collecting beautifulsoup4>=4.11.1\n",
      "  Downloading beautifulsoup4-4.12.2-py3-none-any.whl (142 kB)\n",
      "     ---------------------------------------- 0.0/143.0 kB ? eta -:--:--\n",
      "     ---------------------------------------- 143.0/143.0 kB ? eta 0:00:00\n",
      "Requirement already satisfied: pandas>=1.3.0 in c:\\python310\\lib\\site-packages (from yfinance) (1.5.3)\n",
      "Collecting soupsieve>1.2\n",
      "  Downloading soupsieve-2.4.1-py3-none-any.whl (36 kB)\n",
      "Requirement already satisfied: cffi>=1.12 in c:\\python310\\lib\\site-packages (from cryptography>=3.3.2->yfinance) (1.15.1)\n",
      "Requirement already satisfied: six>=1.9 in c:\\users\\jahye\\appdata\\roaming\\python\\python310\\site-packages (from html5lib>=1.1->yfinance) (1.16.0)\n",
      "Collecting webencodings\n",
      "  Downloading webencodings-0.5.1-py2.py3-none-any.whl (11 kB)\n",
      "Requirement already satisfied: python-dateutil>=2.8.1 in c:\\users\\jahye\\appdata\\roaming\\python\\python310\\site-packages (from pandas>=1.3.0->yfinance) (2.8.2)\n",
      "Requirement already satisfied: idna<4,>=2.5 in c:\\python310\\lib\\site-packages (from requests>=2.26->yfinance) (3.4)\n",
      "Requirement already satisfied: charset-normalizer<4,>=2 in c:\\python310\\lib\\site-packages (from requests>=2.26->yfinance) (3.1.0)\n",
      "Requirement already satisfied: urllib3<1.27,>=1.21.1 in c:\\python310\\lib\\site-packages (from requests>=2.26->yfinance) (1.26.15)\n",
      "Requirement already satisfied: certifi>=2017.4.17 in c:\\python310\\lib\\site-packages (from requests>=2.26->yfinance) (2022.12.7)\n",
      "Requirement already satisfied: pycparser in c:\\python310\\lib\\site-packages (from cffi>=1.12->cryptography>=3.3.2->yfinance) (2.21)\n",
      "Installing collected packages: webencodings, multitasking, appdirs, soupsieve, lxml, html5lib, frozendict, cryptography, beautifulsoup4, yfinance\n"
     ]
    },
    {
     "name": "stderr",
     "output_type": "stream",
     "text": [
      "WARNING: Ignoring invalid distribution -p (c:\\python310\\lib\\site-packages)\n",
      "WARNING: Ignoring invalid distribution -p (c:\\python310\\lib\\site-packages)\n",
      "WARNING: Ignoring invalid distribution -ip (c:\\python310\\lib\\site-packages)\n",
      "WARNING: Ignoring invalid distribution - (c:\\python310\\lib\\site-packages)\n",
      "WARNING: Ignoring invalid distribution -p (c:\\python310\\lib\\site-packages)\n",
      "WARNING: Ignoring invalid distribution -p (c:\\python310\\lib\\site-packages)\n",
      "WARNING: Ignoring invalid distribution -ip (c:\\python310\\lib\\site-packages)\n",
      "WARNING: Ignoring invalid distribution - (c:\\python310\\lib\\site-packages)\n",
      "WARNING: Ignoring invalid distribution -p (c:\\python310\\lib\\site-packages)\n",
      "WARNING: Ignoring invalid distribution -p (c:\\python310\\lib\\site-packages)\n",
      "WARNING: Ignoring invalid distribution -ip (c:\\python310\\lib\\site-packages)\n",
      "WARNING: Ignoring invalid distribution - (c:\\python310\\lib\\site-packages)\n",
      "  WARNING: Failed to write executable - trying to use .deleteme logic\n",
      "ERROR: Could not install packages due to an OSError: [WinError 2] 지정된 파일을 찾을 수 없습니다: 'C:\\\\Python310\\\\Scripts\\\\sample.exe' -> 'C:\\\\Python310\\\\Scripts\\\\sample.exe.deleteme'\n",
      "\n",
      "WARNING: Ignoring invalid distribution -p (c:\\python310\\lib\\site-packages)\n",
      "WARNING: Ignoring invalid distribution -p (c:\\python310\\lib\\site-packages)\n",
      "WARNING: Ignoring invalid distribution -ip (c:\\python310\\lib\\site-packages)\n",
      "WARNING: Ignoring invalid distribution - (c:\\python310\\lib\\site-packages)\n",
      "\n",
      "[notice] A new release of pip is available: 23.0.1 -> 23.1.2\n",
      "[notice] To update, run: python.exe -m pip install --upgrade pip\n"
     ]
    }
   ],
   "source": [
    "!pip install yfinance"
   ]
  },
  {
   "cell_type": "code",
   "execution_count": 2,
   "metadata": {},
   "outputs": [],
   "source": [
    "import yfinance as yf\n",
    "import pandas as pd"
   ]
  },
  {
   "cell_type": "code",
   "execution_count": 3,
   "metadata": {},
   "outputs": [],
   "source": [
    "# call stocks name\n",
    "read_growth = pd.read_csv('growth.csv', header = None)\n",
    "growths = read_growth.values.tolist()[0]\n",
    "\n",
    "read_value = pd.read_csv('value.csv', header = None)\n",
    "values = read_value.values.tolist()[0]\n",
    "\n",
    "read_growth2 = pd.read_csv('growth2000.csv', header = None)\n",
    "growths2 = read_growth2.values.tolist()[0]\n",
    "\n",
    "read_value2 = pd.read_csv('value2000.csv', header = None)\n",
    "values2 = read_value2.values.tolist()[0]"
   ]
  },
  {
   "cell_type": "code",
   "execution_count": 4,
   "metadata": {},
   "outputs": [],
   "source": [
    "# check overlap stocks\n",
    "overlap = set(growths) & set(values)\n",
    "netGrowths = set(growths) - set(overlap)\n",
    "netValues = set(values) - set(overlap)\n",
    "\n",
    "overlap2 = set(growths2) & set(values2)\n",
    "netGrowths2 = set(growths2) - set(overlap2)\n",
    "netValues2 = set(values2) - set(overlap2)"
   ]
  },
  {
   "cell_type": "code",
   "execution_count": 5,
   "metadata": {},
   "outputs": [],
   "source": [
    "# merge 1000 and 2000 stocks\n",
    "netTotalGrowths = list(netGrowths) + list(netGrowths2)\n",
    "netTotalValues = list(netValues) + list(netValues2)\n",
    "TotalOverlap = list(overlap) + list(overlap2)"
   ]
  },
  {
   "cell_type": "code",
   "execution_count": null,
   "metadata": {},
   "outputs": [],
   "source": [
    "print(\"expected number of growth stocks:\",len(netTotalGrowths))\n",
    "print(\"expected number of value stocks:\",len(netTotalValues))\n",
    "print(\"expected number of overlap stocks:\",len(TotalOverlap))"
   ]
  },
  {
   "cell_type": "code",
   "execution_count": 8,
   "metadata": {},
   "outputs": [
    {
     "name": "stdout",
     "output_type": "stream",
     "text": [
      "TFM: Period '1d' is invalid, must be one of ['1mo', '3mo', '6mo', 'ytd', '1y', '2y', '5y', '10y', 'max']\n",
      "Got error from yahoo api for ticker GTXI, Error: {'code': 'Not Found', 'description': 'No data found, symbol may be delisted'}\n",
      "- GTXI: No timezone found, symbol may be delisted\n",
      "Got error from yahoo api for ticker CWENA, Error: {'code': 'Not Found', 'description': 'No data found, symbol may be delisted'}\n",
      "- CWENA: No timezone found, symbol may be delisted\n"
     ]
    }
   ],
   "source": [
    "# for growth stocks\n",
    "for i in netTotalGrowths:\n",
    "    try:\n",
    "        tickerSymbol = i\n",
    "        tickerData = yf.Ticker(tickerSymbol)\n",
    "        tickerDf = tickerData.history(period='1d', start='2018-5-20', end='2023-05-12')\n",
    "        tickerDf.drop('Dividends', axis=1, inplace=True)\n",
    "        tickerDf.drop('Stock Splits', axis=1, inplace=True)\n",
    "        tickerDf.reset_index(inplace=True)\n",
    "        tickerDf['Date'] = pd.to_datetime(tickerDf['Date']).dt.strftime('%Y-%m-%d')\n",
    "        tickerDf.to_csv('growth/'+tickerSymbol+'.csv', index=False)\n",
    "    except:\n",
    "        continue"
   ]
  },
  {
   "cell_type": "code",
   "execution_count": 9,
   "metadata": {},
   "outputs": [
    {
     "name": "stdout",
     "output_type": "stream",
     "text": [
      "Got error from yahoo api for ticker ARD, Error: {'code': 'Not Found', 'description': 'No data found, symbol may be delisted'}\n",
      "- ARD: No timezone found, symbol may be delisted\n",
      "Got error from yahoo api for ticker LENB, Error: {'code': 'Not Found', 'description': 'No data found, symbol may be delisted'}\n",
      "- LENB: No timezone found, symbol may be delisted\n",
      "Got error from yahoo api for ticker BRKB, Error: {'code': 'Not Found', 'description': 'No data found, symbol may be delisted'}\n",
      "- BRKB: No timezone found, symbol may be delisted\n",
      "Got error from yahoo api for ticker UHALB, Error: {'code': 'Not Found', 'description': 'No data found, symbol may be delisted'}\n",
      "- UHALB: No timezone found, symbol may be delisted\n",
      "Got error from yahoo api for ticker RTL US, Error: {'code': 'Not Found', 'description': 'No data found, symbol may be delisted'}\n",
      "- RTL US: No timezone found, symbol may be delisted\n",
      "CRDA: Period '1d' is invalid, must be one of ['1mo', '3mo', '6mo', 'ytd', '1y', '2y', '5y', '10y', 'max']\n",
      "Got error from yahoo api for ticker AAWW, Error: {'code': 'Not Found', 'description': 'No data found, symbol may be delisted'}\n",
      "- AAWW: No timezone found, symbol may be delisted\n",
      "Got error from yahoo api for ticker LGFA, Error: {'code': 'Not Found', 'description': 'No data found, symbol may be delisted'}\n",
      "- LGFA: No timezone found, symbol may be delisted\n",
      "Got error from yahoo api for ticker P5N994, Error: {'code': 'Not Found', 'description': 'No data found, symbol may be delisted'}\n",
      "- P5N994: No timezone found, symbol may be delisted\n",
      "Got error from yahoo api for ticker LGFB, Error: {'code': 'Not Found', 'description': 'No data found, symbol may be delisted'}\n",
      "- LGFB: No timezone found, symbol may be delisted\n",
      "Got error from yahoo api for ticker PLM RT, Error: {'code': 'Not Found', 'description': 'No data found, symbol may be delisted'}\n",
      "- PLM RT: No timezone found, symbol may be delisted\n"
     ]
    }
   ],
   "source": [
    "# for value stocks\n",
    "for i in netTotalValues:\n",
    "    try:\n",
    "        tickerSymbol = i\n",
    "        tickerData = yf.Ticker(tickerSymbol)\n",
    "        tickerDf = tickerData.history(period='1d', start='2018-5-20', end='2023-05-12')\n",
    "        tickerDf.drop('Dividends', axis=1, inplace=True)\n",
    "        tickerDf.drop('Stock Splits', axis=1, inplace=True)\n",
    "        tickerDf.reset_index(inplace=True)\n",
    "        tickerDf['Date'] = pd.to_datetime(tickerDf['Date']).dt.strftime('%Y-%m-%d')\n",
    "        tickerDf.to_csv('value/'+tickerSymbol+'.csv', index=False)\n",
    "    except:\n",
    "        continue"
   ]
  },
  {
   "cell_type": "code",
   "execution_count": 6,
   "metadata": {},
   "outputs": [
    {
     "name": "stdout",
     "output_type": "stream",
     "text": [
      "Got error from yahoo api for ticker BFB, Error: {'code': 'Not Found', 'description': 'No data found, symbol may be delisted'}\n",
      "- BFB: No timezone found, symbol may be delisted\n",
      "Got error from yahoo api for ticker HEIA, Error: {'code': 'Not Found', 'description': 'No data found, symbol may be delisted'}\n",
      "- HEIA: No timezone found, symbol may be delisted\n",
      "Got error from yahoo api for ticker BFA, Error: {'code': 'Not Found', 'description': 'No data found, symbol may be delisted'}\n",
      "- BFA: No timezone found, symbol may be delisted\n",
      "Got error from yahoo api for ticker RXO WI, Error: {'code': 'Not Found', 'description': 'No data found, symbol may be delisted'}\n",
      "- RXO WI: No timezone found, symbol may be delisted\n",
      "Got error from yahoo api for ticker SIVB, Error: {'code': 'Not Found', 'description': 'No data found, symbol may be delisted'}\n",
      "- SIVB: No timezone found, symbol may be delisted\n",
      "Got error from yahoo api for ticker PFHC, Error: {'code': 'Not Found', 'description': 'No data found, symbol may be delisted'}\n",
      "- PFHC: No timezone found, symbol may be delisted\n",
      "Got error from yahoo api for ticker MOGA, Error: {'code': 'Not Found', 'description': 'No data found, symbol may be delisted'}\n",
      "- MOGA: No timezone found, symbol may be delisted\n",
      "Got error from yahoo api for ticker ADRO, Error: {'code': 'Not Found', 'description': 'No data found, symbol may be delisted'}\n",
      "- ADRO: No timezone found, symbol may be delisted\n",
      "Got error from yahoo api for ticker GEFB, Error: {'code': 'Not Found', 'description': 'No data found, symbol may be delisted'}\n",
      "- GEFB: No timezone found, symbol may be delisted\n",
      "Got error from yahoo api for ticker BHM WI, Error: {'code': 'Not Found', 'description': 'No data found, symbol may be delisted'}\n",
      "- BHM WI: No timezone found, symbol may be delisted\n"
     ]
    }
   ],
   "source": [
    "# for overlap stocks\n",
    "for i in TotalOverlap:\n",
    "    try:\n",
    "        tickerSymbol = i\n",
    "        tickerData = yf.Ticker(tickerSymbol)\n",
    "        tickerDf = tickerData.history(period='1d', start='2018-5-20', end='2023-05-12')\n",
    "        tickerDf.drop('Dividends', axis=1, inplace=True)\n",
    "        tickerDf.drop('Stock Splits', axis=1, inplace=True)\n",
    "        tickerDf.reset_index(inplace=True)\n",
    "        tickerDf['Date'] = pd.to_datetime(tickerDf['Date']).dt.strftime('%Y-%m-%d')\n",
    "        tickerDf.to_csv('overlap/'+tickerSymbol+'.csv', index=False)\n",
    "    except:\n",
    "        continue"
   ]
  },
  {
   "cell_type": "code",
   "execution_count": null,
   "metadata": {},
   "outputs": [],
   "source": []
  }
 ],
 "metadata": {
  "kernelspec": {
   "display_name": "Python 3",
   "language": "python",
   "name": "python3"
  },
  "language_info": {
   "codemirror_mode": {
    "name": "ipython",
    "version": 3
   },
   "file_extension": ".py",
   "mimetype": "text/x-python",
   "name": "python",
   "nbconvert_exporter": "python",
   "pygments_lexer": "ipython3",
   "version": "3.10.7"
  },
  "orig_nbformat": 4
 },
 "nbformat": 4,
 "nbformat_minor": 2
}
