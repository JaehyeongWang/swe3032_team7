{
  "cells": [
    {
      "attachments": {},
      "cell_type": "markdown",
      "metadata": {
        "id": "kxoa4ezEWBOU"
      },
      "source": [
        "1. 폴더 하나 만들고 거기에 이 파일, value2000.txt, value2000폴더 다운받기\n",
        "2. value2000_search 빈 폴더 만들기\n",
        "3. 자신이 가지고 있는 크롬버전에 맞는 드라이버 설치 https://rimeestore.tistory.com/entry/웹스크래핑-Selenium셀레니움-셋업 "
      ]
    },
    {
      "cell_type": "code",
      "execution_count": 2,
      "metadata": {
        "colab": {
          "base_uri": "https://localhost:8080/"
        },
        "id": "ufs0UUW1SZ1J",
        "outputId": "72c57620-0e52-4026-ffd7-4ef96f94fb88"
      },
      "outputs": [
        {
          "name": "stdout",
          "output_type": "stream",
          "text": [
            "Python 3.10.7\n",
            "4.8.2\n"
          ]
        }
      ],
      "source": [
        "# 느낌표를 붙이면 Shell 명령어로 실행됩니다.\n",
        "!python --version \n",
        "\n",
        "# Selenium을 확인하려면 다음과 같이 사용해야 합니다.\n",
        "import selenium\n",
        "print(selenium.__version__)"
      ]
    },
    {
      "cell_type": "code",
      "execution_count": 3,
      "metadata": {
        "id": "ujbPqPeFV7Ae"
      },
      "outputs": [],
      "source": [
        "from selenium import webdriver\n",
        "from selenium.webdriver.chrome.service import Service\n",
        "from selenium.webdriver.common.keys import Keys\n",
        "#드라이버 초기화\n",
        "from selenium.webdriver.common.by import By\n",
        "from selenium.webdriver.chrome.options import Options\n",
        "from selenium.webdriver.support.ui import WebDriverWait\n",
        "from selenium.webdriver.support import expected_conditions as EC\n",
        "import os\n",
        "import time\n",
        "\n",
        "import pandas as pd"
      ]
    },
    {
      "cell_type": "code",
      "execution_count": 4,
      "metadata": {
        "id": "2zeBcA1KV7Ag"
      },
      "outputs": [],
      "source": [
        "# 맥북만\n",
        "#s = Service('/Users/jewel/Downloads/chromedriver_mac64/chromedriver')\n",
        "\n",
        "options = Options()\n",
        "options.add_argument('--headless')        # Head-less 설정\n",
        "#options.add_argument('--no-sandbox')\n",
        "#options.add_argument('--disable-dev-shm-usage')"
      ]
    },
    {
      "cell_type": "code",
      "execution_count": null,
      "metadata": {
        "colab": {
          "base_uri": "https://localhost:8080/"
        },
        "id": "-nlkbVtKS8Or",
        "outputId": "36b365a7-ee71-49c5-b3f2-90d877ebaba5"
      },
      "outputs": [
        {
          "data": {
            "text/plain": [
              "'C:\\\\Users\\\\노최유하\\\\Desktop\\\\local'"
            ]
          },
          "execution_count": 4,
          "metadata": {},
          "output_type": "execute_result"
        }
      ],
      "source": [
        "pwd"
      ]
    },
    {
      "cell_type": "code",
      "execution_count": 12,
      "metadata": {
        "id": "vD1TrqeXV7Ag"
      },
      "outputs": [],
      "source": [
        "f = open('./value2000.txt', 'r')\n",
        "file_names = f.readlines()\n",
        "f.close()\n",
        "\n",
        "def get_csv(start, finish):\n",
        "\n",
        "    for ind, file_name in enumerate(file_names[start:finish]):\n",
        "        file_name = file_name.split('.')[0]\n",
        "        print(ind+start, file_name)\n",
        "        URL = 'https://trends.google.co.kr/trends/explore'\n",
        "        # 맥북\n",
        "        #driver = webdriver.Chrome(service=s, options=options)\n",
        "        # 윈도우\n",
        "        driver = webdriver.Chrome('chromedriver')\n",
        "        driver.get(URL)\n",
        "\n",
        "        URL = f'https://trends.google.co.kr/trends/explore?date=today%205-y&q={file_name}'\n",
        "        driver.get(URL)\n",
        "        driver.implicitly_wait(60)\n",
        "\n",
        "        driver.find_element(By.XPATH, '/html/body/div[3]/div[2]/div/md-content/div/div/div[1]/trends-widget/ng-include/widget/div/div/div/widget-actions/div/button[1]').click()\n",
        "        print('downloaded')\n",
        "        driver.quit()\n",
        "\n",
        "        df = pd.read_csv('C:/Users/jahye/Downloads/multiTimeline.csv')\n",
        "        df.columns = [file_name]\n",
        "        df.drop('주', axis=0, inplace=True)\n",
        "        df.to_csv(f'./value2000_search/{file_name}.csv')"
      ]
    },
    {
      "cell_type": "code",
      "execution_count": null,
      "metadata": {
        "id": "x4HB6e1GV7Ag"
      },
      "outputs": [],
      "source": [
        "# 재현\n",
        "get_csv(0,300)"
      ]
    },
    {
      "cell_type": "code",
      "execution_count": null,
      "metadata": {
        "id": "gnlUu_HmV7Ah"
      },
      "outputs": [],
      "source": [
        "# 혜인\n",
        "get_csv(300,800)"
      ]
    },
    {
      "cell_type": "code",
      "execution_count": null,
      "metadata": {
        "id": "0L6U-JODV7Ah",
        "outputId": "866dd1b7-304a-486d-9005-3a8a18ff2c1b"
      },
      "outputs": [],
      "source": [
        "# 유하\n",
        "#get_csv(800,1326)\n",
        "get_csv(550, 675)"
      ]
    },
    {
      "cell_type": "code",
      "execution_count": null,
      "metadata": {
        "id": "bGmtLDDrtjo7"
      },
      "outputs": [],
      "source": [
        "get_csv(675,800)"
      ]
    },
    {
      "cell_type": "code",
      "execution_count": null,
      "metadata": {},
      "outputs": [],
      "source": []
    }
  ],
  "metadata": {
    "colab": {
      "provenance": []
    },
    "kernelspec": {
      "display_name": "Python 3 (ipykernel)",
      "language": "python",
      "name": "python3"
    },
    "language_info": {
      "codemirror_mode": {
        "name": "ipython",
        "version": 3
      },
      "file_extension": ".py",
      "mimetype": "text/x-python",
      "name": "python",
      "nbconvert_exporter": "python",
      "pygments_lexer": "ipython3",
      "version": "3.10.7"
    }
  },
  "nbformat": 4,
  "nbformat_minor": 0
}
